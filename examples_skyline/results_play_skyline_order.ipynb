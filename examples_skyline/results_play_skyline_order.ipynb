{
 "cells": [
  {
   "cell_type": "code",
   "execution_count": 1,
   "metadata": {},
   "outputs": [
    {
     "name": "stdout",
     "output_type": "stream",
     "text": [
      "Import error: No module named 'tensorflow'\n"
     ]
    }
   ],
   "source": [
    "#load relevant libraries\n",
    "import os\n",
    "import sys\n",
    "import pathlib\n",
    "import shutil\n",
    "import warnings\n",
    "warnings.simplefilter('ignore')\n",
    "from helper import extract_info\n",
    "\n",
    "os.chdir('..')\n",
    "#parent_dir = os.path.dirname(os.getcwd())\n",
    "#sys.path.append(parent_dir)\n",
    "\n",
    "from fp.traindata_samplers import CompleteData\n",
    "from fp.missingvalue_handlers import CompleteCaseAnalysis\n",
    "from fp.dataset_experiments import GermanCreditDatasetSexExperiment\n",
    "from fp.scalers import NamedStandardScaler, NamedMinMaxScaler\n",
    "from fp.learners import NonTunedLogisticRegression, LogisticRegression, DecisionTree, NonTunedLogisticRegression, NonTunedDecisionTree          \n",
    "from fp.post_processors import NoPostProcessing, RejectOptionPostProcessing, EqualOddsPostProcessing, CalibratedEqualOddsPostProcessing\n",
    "from fp.pre_processors import NoPreProcessing, DIRemover, Reweighing\n",
    "\n",
    "import pandas as pd\n",
    "import numpy as np\n",
    "import matplotlib.pyplot as plt"
   ]
  },
  {
   "cell_type": "code",
   "execution_count": 2,
   "metadata": {},
   "outputs": [],
   "source": [
    "#parameters in this cell can be adjusted for experimentation\n",
    "\n",
    "seeds = [0xbeef, 0xcafe, 0xdead, 0xdeadcafe, 0xdeadbeef, 0xbeefcafe, 0xcafebeef, 50, 583, 5278, 100000, 0xefac,0xfeeb, 0xdaed, 0xefacdaed, 0xfeebdead]\n",
    "#seeds = [0xbeef, 0xcafe, 0xdead, 0xdeadcafe]\n",
    "learners = [NonTunedLogisticRegression(), LogisticRegression()] \n",
    "#tuned and non tuned DecisionTree() can also be used.\n",
    "\n",
    "#processors = [(NoPreProcessing(), NoPostProcessing()), (DIRemover(1.0), NoPostProcessing()), (DIRemover(0.5), NoPostProcessing()), (Reweighing(), NoPostProcessing()), (NoPreProcessing(), RejectOptionPostProcessing()), (NoPreProcessing(), CalibratedEqualOddsPostProcessing())]\n",
    "skyline_order = ['accuracy', 'selection_rate', 'false_discovery_rate']\n",
    "pre_processors = [NoPreProcessing(), DIRemover(1.0)]\n",
    "post_processors = [NoPostProcessing(), RejectOptionPostProcessing()]\n",
    "#add pair wise tuples for each pair of learners.\n",
    "label_list = [('NonTunedLogistic', 'TunedLogistic')]"
   ]
  },
  {
   "cell_type": "code",
   "execution_count": 3,
   "metadata": {},
   "outputs": [],
   "source": [
    "def calculate_metrics(seed, learner, pre_processor, post_processor, val_strategy):\n",
    "    '''\n",
    "    Experiment function to run the experiments\n",
    "    '''\n",
    "    exp = GermanCreditDatasetSexExperiment(\n",
    "        fixed_random_seed=seed,\n",
    "        train_data_sampler=CompleteData(),\n",
    "        missing_value_handler=CompleteCaseAnalysis(),\n",
    "        numeric_attribute_scaler=NamedStandardScaler(),\n",
    "        learners=learner,\n",
    "        pre_processors=pre_processor,\n",
    "        post_processors=post_processor,\n",
    "        optimal_validation_strategy=val_strategy)\n",
    "    exp.run()"
   ]
  },
  {
   "cell_type": "code",
   "execution_count": 4,
   "metadata": {
    "scrolled": true
   },
   "outputs": [
    {
     "name": "stdout",
     "output_type": "stream",
     "text": [
      "complete_case removed 0 instances from training data\n",
      "complete_case removed 0 instances from validation data\n",
      "Injecting zero columns for features not present set()\n",
      "complete_case removed 0 instances from validation data\n",
      "Injecting zero columns for features not present set()\n",
      "complete_case removed 0 instances from validation data\n",
      "Injecting zero columns for features not present set()\n",
      "complete_case removed 0 instances from validation data\n",
      "Injecting zero columns for features not present set()\n",
      "Fitting 5 folds for each of 12 candidates, totalling 60 fits\n"
     ]
    },
    {
     "name": "stderr",
     "output_type": "stream",
     "text": [
      "[Parallel(n_jobs=-1)]: Using backend LokyBackend with 4 concurrent workers.\n",
      "[Parallel(n_jobs=-1)]: Done  60 out of  60 | elapsed:    2.0s finished\n",
      "[Parallel(n_jobs=-1)]: Using backend LokyBackend with 4 concurrent workers.\n"
     ]
    },
    {
     "name": "stdout",
     "output_type": "stream",
     "text": [
      "complete_case removed 0 instances from validation data\n",
      "Injecting zero columns for features not present set()\n",
      "complete_case removed 0 instances from validation data\n",
      "Injecting zero columns for features not present set()\n",
      "Fitting 5 folds for each of 12 candidates, totalling 60 fits\n"
     ]
    },
    {
     "name": "stderr",
     "output_type": "stream",
     "text": [
      "[Parallel(n_jobs=-1)]: Done  60 out of  60 | elapsed:    0.5s finished\n"
     ]
    },
    {
     "name": "stdout",
     "output_type": "stream",
     "text": [
      "complete_case removed 0 instances from validation data\n",
      "Injecting zero columns for features not present set()\n",
      "complete_case removed 0 instances from validation data\n",
      "Injecting zero columns for features not present set()\n",
      "complete_case removed 0 instances from validation data\n",
      "Injecting zero columns for features not present set()\n",
      "complete_case removed 0 instances from validation data\n",
      "Injecting zero columns for features not present set()\n",
      "complete_case removed 0 instances from validation data\n",
      "Injecting zero columns for features not present set()\n",
      "complete_case removed 0 instances from validation data\n",
      "Injecting zero columns for features not present set()\n",
      "Fitting 5 folds for each of 12 candidates, totalling 60 fits\n"
     ]
    },
    {
     "name": "stderr",
     "output_type": "stream",
     "text": [
      "[Parallel(n_jobs=-1)]: Using backend LokyBackend with 4 concurrent workers.\n",
      "[Parallel(n_jobs=-1)]: Done  60 out of  60 | elapsed:    0.5s finished\n"
     ]
    },
    {
     "name": "stdout",
     "output_type": "stream",
     "text": [
      "complete_case removed 0 instances from validation data\n",
      "Injecting zero columns for features not present set()\n",
      "complete_case removed 0 instances from validation data\n",
      "Injecting zero columns for features not present set()\n",
      "Fitting 5 folds for each of 12 candidates, totalling 60 fits\n"
     ]
    },
    {
     "name": "stderr",
     "output_type": "stream",
     "text": [
      "[Parallel(n_jobs=-1)]: Using backend LokyBackend with 4 concurrent workers.\n",
      "[Parallel(n_jobs=-1)]: Done  60 out of  60 | elapsed:    0.4s finished\n"
     ]
    },
    {
     "name": "stdout",
     "output_type": "stream",
     "text": [
      "complete_case removed 0 instances from validation data\n",
      "Injecting zero columns for features not present set()\n",
      "complete_case removed 0 instances from validation data\n",
      "Injecting zero columns for features not present set()\n",
      "complete_case removed 0 instances from training data\n",
      "complete_case removed 0 instances from validation data\n",
      "Injecting zero columns for features not present set()\n",
      "complete_case removed 0 instances from validation data\n",
      "Injecting zero columns for features not present set()\n",
      "complete_case removed 0 instances from validation data\n",
      "Injecting zero columns for features not present set()\n",
      "complete_case removed 0 instances from validation data\n",
      "Injecting zero columns for features not present set()\n",
      "Fitting 5 folds for each of 12 candidates, totalling 60 fits\n"
     ]
    },
    {
     "name": "stderr",
     "output_type": "stream",
     "text": [
      "[Parallel(n_jobs=-1)]: Using backend LokyBackend with 4 concurrent workers.\n",
      "[Parallel(n_jobs=-1)]: Done  53 out of  60 | elapsed:    0.5s remaining:    0.1s\n",
      "[Parallel(n_jobs=-1)]: Done  60 out of  60 | elapsed:    0.5s finished\n",
      "[Parallel(n_jobs=-1)]: Using backend LokyBackend with 4 concurrent workers.\n"
     ]
    },
    {
     "name": "stdout",
     "output_type": "stream",
     "text": [
      "complete_case removed 0 instances from validation data\n",
      "Injecting zero columns for features not present set()\n",
      "complete_case removed 0 instances from validation data\n",
      "Injecting zero columns for features not present set()\n",
      "Fitting 5 folds for each of 12 candidates, totalling 60 fits\n"
     ]
    },
    {
     "name": "stderr",
     "output_type": "stream",
     "text": [
      "[Parallel(n_jobs=-1)]: Done  53 out of  60 | elapsed:    0.4s remaining:    0.1s\n",
      "[Parallel(n_jobs=-1)]: Done  60 out of  60 | elapsed:    0.4s finished\n"
     ]
    },
    {
     "name": "stdout",
     "output_type": "stream",
     "text": [
      "complete_case removed 0 instances from validation data\n",
      "Injecting zero columns for features not present set()\n",
      "complete_case removed 0 instances from validation data\n",
      "Injecting zero columns for features not present set()\n",
      "complete_case removed 0 instances from validation data\n",
      "Injecting zero columns for features not present set()\n",
      "complete_case removed 0 instances from validation data\n",
      "Injecting zero columns for features not present set()\n",
      "complete_case removed 0 instances from validation data\n",
      "Injecting zero columns for features not present set()\n",
      "complete_case removed 0 instances from validation data\n",
      "Injecting zero columns for features not present set()\n",
      "Fitting 5 folds for each of 12 candidates, totalling 60 fits\n"
     ]
    },
    {
     "name": "stderr",
     "output_type": "stream",
     "text": [
      "[Parallel(n_jobs=-1)]: Using backend LokyBackend with 4 concurrent workers.\n",
      "[Parallel(n_jobs=-1)]: Done  60 out of  60 | elapsed:    0.5s finished\n"
     ]
    },
    {
     "name": "stdout",
     "output_type": "stream",
     "text": [
      "complete_case removed 0 instances from validation data\n",
      "Injecting zero columns for features not present set()\n",
      "complete_case removed 0 instances from validation data\n",
      "Injecting zero columns for features not present set()\n",
      "Fitting 5 folds for each of 12 candidates, totalling 60 fits\n"
     ]
    },
    {
     "name": "stderr",
     "output_type": "stream",
     "text": [
      "[Parallel(n_jobs=-1)]: Using backend LokyBackend with 4 concurrent workers.\n",
      "[Parallel(n_jobs=-1)]: Done  53 out of  60 | elapsed:    0.4s remaining:    0.1s\n",
      "[Parallel(n_jobs=-1)]: Done  60 out of  60 | elapsed:    0.4s finished\n"
     ]
    },
    {
     "name": "stdout",
     "output_type": "stream",
     "text": [
      "complete_case removed 0 instances from validation data\n",
      "Injecting zero columns for features not present set()\n",
      "complete_case removed 0 instances from validation data\n",
      "Injecting zero columns for features not present set()\n",
      "complete_case removed 0 instances from training data\n",
      "complete_case removed 0 instances from validation data\n",
      "Injecting zero columns for features not present set()\n",
      "complete_case removed 0 instances from validation data\n",
      "Injecting zero columns for features not present set()\n",
      "complete_case removed 0 instances from validation data\n",
      "Injecting zero columns for features not present set()\n",
      "complete_case removed 0 instances from validation data\n",
      "Injecting zero columns for features not present set()\n",
      "Fitting 5 folds for each of 12 candidates, totalling 60 fits\n"
     ]
    },
    {
     "name": "stderr",
     "output_type": "stream",
     "text": [
      "[Parallel(n_jobs=-1)]: Using backend LokyBackend with 4 concurrent workers.\n",
      "[Parallel(n_jobs=-1)]: Done  53 out of  60 | elapsed:    0.5s remaining:    0.1s\n",
      "[Parallel(n_jobs=-1)]: Done  60 out of  60 | elapsed:    0.5s finished\n",
      "[Parallel(n_jobs=-1)]: Using backend LokyBackend with 4 concurrent workers.\n"
     ]
    },
    {
     "name": "stdout",
     "output_type": "stream",
     "text": [
      "complete_case removed 0 instances from validation data\n",
      "Injecting zero columns for features not present set()\n",
      "complete_case removed 0 instances from validation data\n",
      "Injecting zero columns for features not present set()\n",
      "Fitting 5 folds for each of 12 candidates, totalling 60 fits\n"
     ]
    },
    {
     "name": "stderr",
     "output_type": "stream",
     "text": [
      "[Parallel(n_jobs=-1)]: Done  53 out of  60 | elapsed:    0.6s remaining:    0.1s\n",
      "[Parallel(n_jobs=-1)]: Done  60 out of  60 | elapsed:    0.6s finished\n"
     ]
    },
    {
     "name": "stdout",
     "output_type": "stream",
     "text": [
      "complete_case removed 0 instances from validation data\n",
      "Injecting zero columns for features not present set()\n",
      "complete_case removed 0 instances from validation data\n",
      "Injecting zero columns for features not present set()\n",
      "complete_case removed 0 instances from validation data\n",
      "Injecting zero columns for features not present set()\n",
      "complete_case removed 0 instances from validation data\n",
      "Injecting zero columns for features not present set()\n",
      "complete_case removed 0 instances from validation data\n",
      "Injecting zero columns for features not present set()\n",
      "complete_case removed 0 instances from validation data\n",
      "Injecting zero columns for features not present set()\n",
      "Fitting 5 folds for each of 12 candidates, totalling 60 fits\n"
     ]
    },
    {
     "name": "stderr",
     "output_type": "stream",
     "text": [
      "[Parallel(n_jobs=-1)]: Using backend LokyBackend with 4 concurrent workers.\n",
      "[Parallel(n_jobs=-1)]: Done  53 out of  60 | elapsed:    0.5s remaining:    0.1s\n",
      "[Parallel(n_jobs=-1)]: Done  60 out of  60 | elapsed:    0.5s finished\n"
     ]
    },
    {
     "name": "stdout",
     "output_type": "stream",
     "text": [
      "complete_case removed 0 instances from validation data\n",
      "Injecting zero columns for features not present set()\n",
      "complete_case removed 0 instances from validation data\n",
      "Injecting zero columns for features not present set()\n",
      "Fitting 5 folds for each of 12 candidates, totalling 60 fits\n"
     ]
    },
    {
     "name": "stderr",
     "output_type": "stream",
     "text": [
      "[Parallel(n_jobs=-1)]: Using backend LokyBackend with 4 concurrent workers.\n",
      "[Parallel(n_jobs=-1)]: Done  53 out of  60 | elapsed:    0.5s remaining:    0.1s\n",
      "[Parallel(n_jobs=-1)]: Done  60 out of  60 | elapsed:    0.5s finished\n"
     ]
    },
    {
     "name": "stdout",
     "output_type": "stream",
     "text": [
      "complete_case removed 0 instances from validation data\n",
      "Injecting zero columns for features not present set()\n",
      "complete_case removed 0 instances from validation data\n",
      "Injecting zero columns for features not present set()\n",
      "complete_case removed 0 instances from training data\n",
      "complete_case removed 0 instances from validation data\n",
      "Injecting zero columns for features not present set()\n",
      "complete_case removed 0 instances from validation data\n",
      "Injecting zero columns for features not present set()\n",
      "complete_case removed 0 instances from validation data\n",
      "Injecting zero columns for features not present set()\n",
      "complete_case removed 0 instances from validation data\n",
      "Injecting zero columns for features not present set()\n",
      "Fitting 5 folds for each of 12 candidates, totalling 60 fits\n"
     ]
    },
    {
     "name": "stderr",
     "output_type": "stream",
     "text": [
      "[Parallel(n_jobs=-1)]: Using backend LokyBackend with 4 concurrent workers.\n",
      "[Parallel(n_jobs=-1)]: Done  53 out of  60 | elapsed:    0.5s remaining:    0.1s\n",
      "[Parallel(n_jobs=-1)]: Done  60 out of  60 | elapsed:    0.5s finished\n",
      "[Parallel(n_jobs=-1)]: Using backend LokyBackend with 4 concurrent workers.\n"
     ]
    },
    {
     "name": "stdout",
     "output_type": "stream",
     "text": [
      "complete_case removed 0 instances from validation data\n",
      "Injecting zero columns for features not present set()\n",
      "complete_case removed 0 instances from validation data\n",
      "Injecting zero columns for features not present set()\n",
      "Fitting 5 folds for each of 12 candidates, totalling 60 fits\n"
     ]
    },
    {
     "name": "stderr",
     "output_type": "stream",
     "text": [
      "[Parallel(n_jobs=-1)]: Done  53 out of  60 | elapsed:    0.4s remaining:    0.1s\n",
      "[Parallel(n_jobs=-1)]: Done  60 out of  60 | elapsed:    0.4s finished\n"
     ]
    },
    {
     "name": "stdout",
     "output_type": "stream",
     "text": [
      "complete_case removed 0 instances from validation data\n",
      "Injecting zero columns for features not present set()\n",
      "complete_case removed 0 instances from validation data\n",
      "Injecting zero columns for features not present set()\n",
      "complete_case removed 0 instances from validation data\n",
      "Injecting zero columns for features not present set()\n",
      "complete_case removed 0 instances from validation data\n",
      "Injecting zero columns for features not present set()\n",
      "complete_case removed 0 instances from validation data\n",
      "Injecting zero columns for features not present set()\n",
      "complete_case removed 0 instances from validation data\n",
      "Injecting zero columns for features not present set()\n",
      "Fitting 5 folds for each of 12 candidates, totalling 60 fits\n"
     ]
    },
    {
     "name": "stderr",
     "output_type": "stream",
     "text": [
      "[Parallel(n_jobs=-1)]: Using backend LokyBackend with 4 concurrent workers.\n",
      "[Parallel(n_jobs=-1)]: Done  60 out of  60 | elapsed:    0.5s finished\n"
     ]
    },
    {
     "name": "stdout",
     "output_type": "stream",
     "text": [
      "complete_case removed 0 instances from validation data\n",
      "Injecting zero columns for features not present set()\n",
      "complete_case removed 0 instances from validation data\n",
      "Injecting zero columns for features not present set()\n",
      "Fitting 5 folds for each of 12 candidates, totalling 60 fits\n"
     ]
    },
    {
     "name": "stderr",
     "output_type": "stream",
     "text": [
      "[Parallel(n_jobs=-1)]: Using backend LokyBackend with 4 concurrent workers.\n",
      "[Parallel(n_jobs=-1)]: Done  53 out of  60 | elapsed:    0.6s remaining:    0.1s\n",
      "[Parallel(n_jobs=-1)]: Done  60 out of  60 | elapsed:    0.6s finished\n"
     ]
    },
    {
     "name": "stdout",
     "output_type": "stream",
     "text": [
      "complete_case removed 0 instances from validation data\n",
      "Injecting zero columns for features not present set()\n",
      "complete_case removed 0 instances from validation data\n",
      "Injecting zero columns for features not present set()\n",
      "complete_case removed 0 instances from training data\n",
      "complete_case removed 0 instances from validation data\n",
      "Injecting zero columns for features not present set()\n",
      "complete_case removed 0 instances from validation data\n",
      "Injecting zero columns for features not present set()\n",
      "complete_case removed 0 instances from validation data\n",
      "Injecting zero columns for features not present set()\n",
      "complete_case removed 0 instances from validation data\n",
      "Injecting zero columns for features not present set()\n",
      "Fitting 5 folds for each of 12 candidates, totalling 60 fits\n"
     ]
    },
    {
     "name": "stderr",
     "output_type": "stream",
     "text": [
      "[Parallel(n_jobs=-1)]: Using backend LokyBackend with 4 concurrent workers.\n",
      "[Parallel(n_jobs=-1)]: Done  53 out of  60 | elapsed:    0.5s remaining:    0.1s\n",
      "[Parallel(n_jobs=-1)]: Done  60 out of  60 | elapsed:    0.5s finished\n",
      "[Parallel(n_jobs=-1)]: Using backend LokyBackend with 4 concurrent workers.\n"
     ]
    },
    {
     "name": "stdout",
     "output_type": "stream",
     "text": [
      "complete_case removed 0 instances from validation data\n",
      "Injecting zero columns for features not present set()\n",
      "complete_case removed 0 instances from validation data\n",
      "Injecting zero columns for features not present set()\n",
      "Fitting 5 folds for each of 12 candidates, totalling 60 fits\n"
     ]
    },
    {
     "name": "stderr",
     "output_type": "stream",
     "text": [
      "[Parallel(n_jobs=-1)]: Done  53 out of  60 | elapsed:    0.4s remaining:    0.1s\n",
      "[Parallel(n_jobs=-1)]: Done  60 out of  60 | elapsed:    0.5s finished\n"
     ]
    },
    {
     "name": "stdout",
     "output_type": "stream",
     "text": [
      "complete_case removed 0 instances from validation data\n",
      "Injecting zero columns for features not present set()\n",
      "complete_case removed 0 instances from validation data\n",
      "Injecting zero columns for features not present set()\n",
      "complete_case removed 0 instances from validation data\n",
      "Injecting zero columns for features not present set()\n",
      "complete_case removed 0 instances from validation data\n",
      "Injecting zero columns for features not present set()\n",
      "complete_case removed 0 instances from validation data\n",
      "Injecting zero columns for features not present set()\n",
      "complete_case removed 0 instances from validation data\n",
      "Injecting zero columns for features not present set()\n",
      "Fitting 5 folds for each of 12 candidates, totalling 60 fits\n"
     ]
    },
    {
     "name": "stderr",
     "output_type": "stream",
     "text": [
      "[Parallel(n_jobs=-1)]: Using backend LokyBackend with 4 concurrent workers.\n",
      "[Parallel(n_jobs=-1)]: Done  53 out of  60 | elapsed:    0.4s remaining:    0.1s\n",
      "[Parallel(n_jobs=-1)]: Done  60 out of  60 | elapsed:    0.5s finished\n"
     ]
    },
    {
     "name": "stdout",
     "output_type": "stream",
     "text": [
      "complete_case removed 0 instances from validation data\n",
      "Injecting zero columns for features not present set()\n",
      "complete_case removed 0 instances from validation data\n",
      "Injecting zero columns for features not present set()\n",
      "Fitting 5 folds for each of 12 candidates, totalling 60 fits\n"
     ]
    },
    {
     "name": "stderr",
     "output_type": "stream",
     "text": [
      "[Parallel(n_jobs=-1)]: Using backend LokyBackend with 4 concurrent workers.\n",
      "[Parallel(n_jobs=-1)]: Done  60 out of  60 | elapsed:    0.5s finished\n"
     ]
    },
    {
     "name": "stdout",
     "output_type": "stream",
     "text": [
      "complete_case removed 0 instances from validation data\n",
      "Injecting zero columns for features not present set()\n",
      "complete_case removed 0 instances from validation data\n",
      "Injecting zero columns for features not present set()\n",
      "complete_case removed 0 instances from training data\n",
      "complete_case removed 0 instances from validation data\n",
      "Injecting zero columns for features not present set()\n",
      "complete_case removed 0 instances from validation data\n",
      "Injecting zero columns for features not present set()\n",
      "complete_case removed 0 instances from validation data\n",
      "Injecting zero columns for features not present set()\n",
      "complete_case removed 0 instances from validation data\n",
      "Injecting zero columns for features not present set()\n",
      "Fitting 5 folds for each of 12 candidates, totalling 60 fits\n"
     ]
    },
    {
     "name": "stderr",
     "output_type": "stream",
     "text": [
      "[Parallel(n_jobs=-1)]: Using backend LokyBackend with 4 concurrent workers.\n",
      "[Parallel(n_jobs=-1)]: Done  53 out of  60 | elapsed:    0.5s remaining:    0.1s\n",
      "[Parallel(n_jobs=-1)]: Done  60 out of  60 | elapsed:    0.5s finished\n",
      "[Parallel(n_jobs=-1)]: Using backend LokyBackend with 4 concurrent workers.\n"
     ]
    },
    {
     "name": "stdout",
     "output_type": "stream",
     "text": [
      "complete_case removed 0 instances from validation data\n",
      "Injecting zero columns for features not present set()\n",
      "complete_case removed 0 instances from validation data\n",
      "Injecting zero columns for features not present set()\n",
      "Fitting 5 folds for each of 12 candidates, totalling 60 fits\n"
     ]
    },
    {
     "name": "stderr",
     "output_type": "stream",
     "text": [
      "[Parallel(n_jobs=-1)]: Done  53 out of  60 | elapsed:    0.4s remaining:    0.1s\n",
      "[Parallel(n_jobs=-1)]: Done  60 out of  60 | elapsed:    0.4s finished\n"
     ]
    },
    {
     "name": "stdout",
     "output_type": "stream",
     "text": [
      "complete_case removed 0 instances from validation data\n",
      "Injecting zero columns for features not present set()\n",
      "complete_case removed 0 instances from validation data\n",
      "Injecting zero columns for features not present set()\n",
      "complete_case removed 0 instances from validation data\n",
      "Injecting zero columns for features not present set()\n",
      "complete_case removed 0 instances from validation data\n",
      "Injecting zero columns for features not present set()\n",
      "complete_case removed 0 instances from validation data\n",
      "Injecting zero columns for features not present set()\n",
      "complete_case removed 0 instances from validation data\n",
      "Injecting zero columns for features not present set()\n",
      "Fitting 5 folds for each of 12 candidates, totalling 60 fits\n"
     ]
    },
    {
     "name": "stderr",
     "output_type": "stream",
     "text": [
      "[Parallel(n_jobs=-1)]: Using backend LokyBackend with 4 concurrent workers.\n",
      "[Parallel(n_jobs=-1)]: Done  53 out of  60 | elapsed:    0.4s remaining:    0.1s\n",
      "[Parallel(n_jobs=-1)]: Done  60 out of  60 | elapsed:    0.4s finished\n"
     ]
    },
    {
     "name": "stdout",
     "output_type": "stream",
     "text": [
      "complete_case removed 0 instances from validation data\n",
      "Injecting zero columns for features not present set()\n",
      "complete_case removed 0 instances from validation data\n",
      "Injecting zero columns for features not present set()\n",
      "Fitting 5 folds for each of 12 candidates, totalling 60 fits\n"
     ]
    },
    {
     "name": "stderr",
     "output_type": "stream",
     "text": [
      "[Parallel(n_jobs=-1)]: Using backend LokyBackend with 4 concurrent workers.\n",
      "[Parallel(n_jobs=-1)]: Done  60 out of  60 | elapsed:    0.6s finished\n"
     ]
    },
    {
     "name": "stdout",
     "output_type": "stream",
     "text": [
      "complete_case removed 0 instances from validation data\n",
      "Injecting zero columns for features not present set()\n",
      "complete_case removed 0 instances from validation data\n",
      "Injecting zero columns for features not present set()\n",
      "complete_case removed 0 instances from training data\n",
      "complete_case removed 0 instances from validation data\n",
      "Injecting zero columns for features not present set()\n",
      "complete_case removed 0 instances from validation data\n",
      "Injecting zero columns for features not present set()\n",
      "complete_case removed 0 instances from validation data\n",
      "Injecting zero columns for features not present set()\n",
      "complete_case removed 0 instances from validation data\n",
      "Injecting zero columns for features not present set()\n",
      "Fitting 5 folds for each of 12 candidates, totalling 60 fits\n"
     ]
    },
    {
     "name": "stderr",
     "output_type": "stream",
     "text": [
      "[Parallel(n_jobs=-1)]: Using backend LokyBackend with 4 concurrent workers.\n",
      "[Parallel(n_jobs=-1)]: Done  53 out of  60 | elapsed:    0.5s remaining:    0.1s\n",
      "[Parallel(n_jobs=-1)]: Done  60 out of  60 | elapsed:    0.5s finished\n",
      "[Parallel(n_jobs=-1)]: Using backend LokyBackend with 4 concurrent workers.\n"
     ]
    },
    {
     "name": "stdout",
     "output_type": "stream",
     "text": [
      "complete_case removed 0 instances from validation data\n",
      "Injecting zero columns for features not present set()\n",
      "complete_case removed 0 instances from validation data\n",
      "Injecting zero columns for features not present set()\n",
      "Fitting 5 folds for each of 12 candidates, totalling 60 fits\n"
     ]
    },
    {
     "name": "stderr",
     "output_type": "stream",
     "text": [
      "[Parallel(n_jobs=-1)]: Done  53 out of  60 | elapsed:    0.4s remaining:    0.1s\n",
      "[Parallel(n_jobs=-1)]: Done  60 out of  60 | elapsed:    0.4s finished\n"
     ]
    },
    {
     "name": "stdout",
     "output_type": "stream",
     "text": [
      "complete_case removed 0 instances from validation data\n",
      "Injecting zero columns for features not present set()\n",
      "complete_case removed 0 instances from validation data\n",
      "Injecting zero columns for features not present set()\n",
      "complete_case removed 0 instances from validation data\n",
      "Injecting zero columns for features not present set()\n",
      "complete_case removed 0 instances from validation data\n",
      "Injecting zero columns for features not present set()\n",
      "complete_case removed 0 instances from validation data\n",
      "Injecting zero columns for features not present set()\n",
      "complete_case removed 0 instances from validation data\n",
      "Injecting zero columns for features not present set()\n",
      "Fitting 5 folds for each of 12 candidates, totalling 60 fits\n"
     ]
    },
    {
     "name": "stderr",
     "output_type": "stream",
     "text": [
      "[Parallel(n_jobs=-1)]: Using backend LokyBackend with 4 concurrent workers.\n",
      "[Parallel(n_jobs=-1)]: Done  53 out of  60 | elapsed:    0.5s remaining:    0.1s\n",
      "[Parallel(n_jobs=-1)]: Done  60 out of  60 | elapsed:    0.5s finished\n"
     ]
    },
    {
     "name": "stdout",
     "output_type": "stream",
     "text": [
      "complete_case removed 0 instances from validation data\n",
      "Injecting zero columns for features not present set()\n",
      "complete_case removed 0 instances from validation data\n",
      "Injecting zero columns for features not present set()\n",
      "Fitting 5 folds for each of 12 candidates, totalling 60 fits\n"
     ]
    },
    {
     "name": "stderr",
     "output_type": "stream",
     "text": [
      "[Parallel(n_jobs=-1)]: Using backend LokyBackend with 4 concurrent workers.\n",
      "[Parallel(n_jobs=-1)]: Done  60 out of  60 | elapsed:    0.4s finished\n"
     ]
    },
    {
     "name": "stdout",
     "output_type": "stream",
     "text": [
      "complete_case removed 0 instances from validation data\n",
      "Injecting zero columns for features not present set()\n",
      "complete_case removed 0 instances from validation data\n",
      "Injecting zero columns for features not present set()\n",
      "complete_case removed 0 instances from training data\n",
      "complete_case removed 0 instances from validation data\n",
      "Injecting zero columns for features not present set()\n",
      "complete_case removed 0 instances from validation data\n",
      "Injecting zero columns for features not present set()\n",
      "complete_case removed 0 instances from validation data\n",
      "Injecting zero columns for features not present set()\n",
      "complete_case removed 0 instances from validation data\n",
      "Injecting zero columns for features not present set()\n",
      "Fitting 5 folds for each of 12 candidates, totalling 60 fits\n"
     ]
    },
    {
     "name": "stderr",
     "output_type": "stream",
     "text": [
      "[Parallel(n_jobs=-1)]: Using backend LokyBackend with 4 concurrent workers.\n",
      "[Parallel(n_jobs=-1)]: Done  53 out of  60 | elapsed:    0.4s remaining:    0.1s\n",
      "[Parallel(n_jobs=-1)]: Done  60 out of  60 | elapsed:    0.5s finished\n",
      "[Parallel(n_jobs=-1)]: Using backend LokyBackend with 4 concurrent workers.\n"
     ]
    },
    {
     "name": "stdout",
     "output_type": "stream",
     "text": [
      "complete_case removed 0 instances from validation data\n",
      "Injecting zero columns for features not present set()\n",
      "complete_case removed 0 instances from validation data\n",
      "Injecting zero columns for features not present set()\n",
      "Fitting 5 folds for each of 12 candidates, totalling 60 fits\n"
     ]
    },
    {
     "name": "stderr",
     "output_type": "stream",
     "text": [
      "[Parallel(n_jobs=-1)]: Done  53 out of  60 | elapsed:    0.4s remaining:    0.1s\n",
      "[Parallel(n_jobs=-1)]: Done  60 out of  60 | elapsed:    0.4s finished\n"
     ]
    },
    {
     "name": "stdout",
     "output_type": "stream",
     "text": [
      "complete_case removed 0 instances from validation data\n",
      "Injecting zero columns for features not present set()\n",
      "complete_case removed 0 instances from validation data\n",
      "Injecting zero columns for features not present set()\n",
      "complete_case removed 0 instances from validation data\n",
      "Injecting zero columns for features not present set()\n",
      "complete_case removed 0 instances from validation data\n",
      "Injecting zero columns for features not present set()\n",
      "complete_case removed 0 instances from validation data\n",
      "Injecting zero columns for features not present set()\n",
      "complete_case removed 0 instances from validation data\n",
      "Injecting zero columns for features not present set()\n",
      "Fitting 5 folds for each of 12 candidates, totalling 60 fits\n"
     ]
    },
    {
     "name": "stderr",
     "output_type": "stream",
     "text": [
      "[Parallel(n_jobs=-1)]: Using backend LokyBackend with 4 concurrent workers.\n",
      "[Parallel(n_jobs=-1)]: Done  60 out of  60 | elapsed:    0.6s finished\n"
     ]
    },
    {
     "name": "stdout",
     "output_type": "stream",
     "text": [
      "complete_case removed 0 instances from validation data\n",
      "Injecting zero columns for features not present set()\n",
      "complete_case removed 0 instances from validation data\n",
      "Injecting zero columns for features not present set()\n",
      "Fitting 5 folds for each of 12 candidates, totalling 60 fits\n"
     ]
    },
    {
     "name": "stderr",
     "output_type": "stream",
     "text": [
      "[Parallel(n_jobs=-1)]: Using backend LokyBackend with 4 concurrent workers.\n",
      "[Parallel(n_jobs=-1)]: Done  53 out of  60 | elapsed:    0.5s remaining:    0.1s\n",
      "[Parallel(n_jobs=-1)]: Done  60 out of  60 | elapsed:    0.5s finished\n"
     ]
    },
    {
     "name": "stdout",
     "output_type": "stream",
     "text": [
      "complete_case removed 0 instances from validation data\n",
      "Injecting zero columns for features not present set()\n",
      "complete_case removed 0 instances from validation data\n",
      "Injecting zero columns for features not present set()\n",
      "complete_case removed 0 instances from training data\n",
      "complete_case removed 0 instances from validation data\n",
      "Injecting zero columns for features not present set()\n",
      "complete_case removed 0 instances from validation data\n",
      "Injecting zero columns for features not present set()\n",
      "complete_case removed 0 instances from validation data\n",
      "Injecting zero columns for features not present set()\n",
      "complete_case removed 0 instances from validation data\n",
      "Injecting zero columns for features not present set()\n",
      "Fitting 5 folds for each of 12 candidates, totalling 60 fits\n"
     ]
    },
    {
     "name": "stderr",
     "output_type": "stream",
     "text": [
      "[Parallel(n_jobs=-1)]: Using backend LokyBackend with 4 concurrent workers.\n",
      "[Parallel(n_jobs=-1)]: Done  53 out of  60 | elapsed:    0.4s remaining:    0.1s\n",
      "[Parallel(n_jobs=-1)]: Done  60 out of  60 | elapsed:    0.5s finished\n"
     ]
    },
    {
     "name": "stdout",
     "output_type": "stream",
     "text": [
      "complete_case removed 0 instances from validation data\n",
      "Injecting zero columns for features not present set()\n",
      "complete_case removed 0 instances from validation data\n",
      "Injecting zero columns for features not present set()\n",
      "Fitting 5 folds for each of 12 candidates, totalling 60 fits\n"
     ]
    },
    {
     "name": "stderr",
     "output_type": "stream",
     "text": [
      "[Parallel(n_jobs=-1)]: Using backend LokyBackend with 4 concurrent workers.\n",
      "[Parallel(n_jobs=-1)]: Done  53 out of  60 | elapsed:    0.4s remaining:    0.1s\n",
      "[Parallel(n_jobs=-1)]: Done  60 out of  60 | elapsed:    0.4s finished\n"
     ]
    },
    {
     "name": "stdout",
     "output_type": "stream",
     "text": [
      "complete_case removed 0 instances from validation data\n",
      "Injecting zero columns for features not present set()\n",
      "complete_case removed 0 instances from validation data\n",
      "Injecting zero columns for features not present set()\n",
      "complete_case removed 0 instances from validation data\n",
      "Injecting zero columns for features not present set()\n",
      "complete_case removed 0 instances from validation data\n",
      "Injecting zero columns for features not present set()\n",
      "complete_case removed 0 instances from validation data\n",
      "Injecting zero columns for features not present set()\n",
      "complete_case removed 0 instances from validation data\n",
      "Injecting zero columns for features not present set()\n",
      "Fitting 5 folds for each of 12 candidates, totalling 60 fits\n"
     ]
    },
    {
     "name": "stderr",
     "output_type": "stream",
     "text": [
      "[Parallel(n_jobs=-1)]: Using backend LokyBackend with 4 concurrent workers.\n",
      "[Parallel(n_jobs=-1)]: Done  53 out of  60 | elapsed:    0.4s remaining:    0.1s\n",
      "[Parallel(n_jobs=-1)]: Done  60 out of  60 | elapsed:    0.5s finished\n"
     ]
    },
    {
     "name": "stdout",
     "output_type": "stream",
     "text": [
      "complete_case removed 0 instances from validation data\n",
      "Injecting zero columns for features not present set()\n",
      "complete_case removed 0 instances from validation data\n",
      "Injecting zero columns for features not present set()\n",
      "Fitting 5 folds for each of 12 candidates, totalling 60 fits\n"
     ]
    },
    {
     "name": "stderr",
     "output_type": "stream",
     "text": [
      "[Parallel(n_jobs=-1)]: Using backend LokyBackend with 4 concurrent workers.\n",
      "[Parallel(n_jobs=-1)]: Done  53 out of  60 | elapsed:    0.4s remaining:    0.1s\n",
      "[Parallel(n_jobs=-1)]: Done  60 out of  60 | elapsed:    0.5s finished\n"
     ]
    },
    {
     "name": "stdout",
     "output_type": "stream",
     "text": [
      "complete_case removed 0 instances from validation data\n",
      "Injecting zero columns for features not present set()\n",
      "complete_case removed 0 instances from validation data\n",
      "Injecting zero columns for features not present set()\n",
      "complete_case removed 0 instances from training data\n",
      "complete_case removed 0 instances from validation data\n",
      "Injecting zero columns for features not present set()\n",
      "complete_case removed 0 instances from validation data\n",
      "Injecting zero columns for features not present set()\n",
      "complete_case removed 0 instances from validation data\n",
      "Injecting zero columns for features not present set()\n",
      "complete_case removed 0 instances from validation data\n",
      "Injecting zero columns for features not present set()\n",
      "Fitting 5 folds for each of 12 candidates, totalling 60 fits\n"
     ]
    },
    {
     "name": "stderr",
     "output_type": "stream",
     "text": [
      "[Parallel(n_jobs=-1)]: Using backend LokyBackend with 4 concurrent workers.\n",
      "[Parallel(n_jobs=-1)]: Done  53 out of  60 | elapsed:    0.5s remaining:    0.1s\n",
      "[Parallel(n_jobs=-1)]: Done  60 out of  60 | elapsed:    0.5s finished\n",
      "[Parallel(n_jobs=-1)]: Using backend LokyBackend with 4 concurrent workers.\n"
     ]
    },
    {
     "name": "stdout",
     "output_type": "stream",
     "text": [
      "complete_case removed 0 instances from validation data\n",
      "Injecting zero columns for features not present set()\n",
      "complete_case removed 0 instances from validation data\n",
      "Injecting zero columns for features not present set()\n",
      "Fitting 5 folds for each of 12 candidates, totalling 60 fits\n"
     ]
    },
    {
     "name": "stderr",
     "output_type": "stream",
     "text": [
      "[Parallel(n_jobs=-1)]: Done  53 out of  60 | elapsed:    0.4s remaining:    0.1s\n",
      "[Parallel(n_jobs=-1)]: Done  60 out of  60 | elapsed:    0.4s finished\n"
     ]
    },
    {
     "name": "stdout",
     "output_type": "stream",
     "text": [
      "complete_case removed 0 instances from validation data\n",
      "Injecting zero columns for features not present set()\n",
      "complete_case removed 0 instances from validation data\n",
      "Injecting zero columns for features not present set()\n",
      "complete_case removed 0 instances from validation data\n",
      "Injecting zero columns for features not present set()\n",
      "complete_case removed 0 instances from validation data\n",
      "Injecting zero columns for features not present set()\n",
      "complete_case removed 0 instances from validation data\n",
      "Injecting zero columns for features not present set()\n",
      "complete_case removed 0 instances from validation data\n",
      "Injecting zero columns for features not present set()\n",
      "Fitting 5 folds for each of 12 candidates, totalling 60 fits\n"
     ]
    },
    {
     "name": "stderr",
     "output_type": "stream",
     "text": [
      "[Parallel(n_jobs=-1)]: Using backend LokyBackend with 4 concurrent workers.\n",
      "[Parallel(n_jobs=-1)]: Done  53 out of  60 | elapsed:    0.4s remaining:    0.1s\n",
      "[Parallel(n_jobs=-1)]: Done  60 out of  60 | elapsed:    0.4s finished\n"
     ]
    },
    {
     "name": "stdout",
     "output_type": "stream",
     "text": [
      "complete_case removed 0 instances from validation data\n",
      "Injecting zero columns for features not present set()\n",
      "complete_case removed 0 instances from validation data\n",
      "Injecting zero columns for features not present set()\n",
      "Fitting 5 folds for each of 12 candidates, totalling 60 fits\n"
     ]
    },
    {
     "name": "stderr",
     "output_type": "stream",
     "text": [
      "[Parallel(n_jobs=-1)]: Using backend LokyBackend with 4 concurrent workers.\n",
      "[Parallel(n_jobs=-1)]: Done  53 out of  60 | elapsed:    0.4s remaining:    0.1s\n",
      "[Parallel(n_jobs=-1)]: Done  60 out of  60 | elapsed:    0.4s finished\n"
     ]
    },
    {
     "name": "stdout",
     "output_type": "stream",
     "text": [
      "complete_case removed 0 instances from validation data\n",
      "Injecting zero columns for features not present set()\n",
      "complete_case removed 0 instances from validation data\n",
      "Injecting zero columns for features not present set()\n",
      "complete_case removed 0 instances from training data\n",
      "complete_case removed 0 instances from validation data\n",
      "Injecting zero columns for features not present set()\n",
      "complete_case removed 0 instances from validation data\n",
      "Injecting zero columns for features not present set()\n",
      "complete_case removed 0 instances from validation data\n",
      "Injecting zero columns for features not present set()\n",
      "complete_case removed 0 instances from validation data\n",
      "Injecting zero columns for features not present set()\n",
      "Fitting 5 folds for each of 12 candidates, totalling 60 fits\n"
     ]
    },
    {
     "name": "stderr",
     "output_type": "stream",
     "text": [
      "[Parallel(n_jobs=-1)]: Using backend LokyBackend with 4 concurrent workers.\n",
      "[Parallel(n_jobs=-1)]: Done  60 out of  60 | elapsed:    0.6s finished\n",
      "[Parallel(n_jobs=-1)]: Using backend LokyBackend with 4 concurrent workers.\n"
     ]
    },
    {
     "name": "stdout",
     "output_type": "stream",
     "text": [
      "complete_case removed 0 instances from validation data\n",
      "Injecting zero columns for features not present set()\n",
      "complete_case removed 0 instances from validation data\n",
      "Injecting zero columns for features not present set()\n",
      "Fitting 5 folds for each of 12 candidates, totalling 60 fits\n"
     ]
    },
    {
     "name": "stderr",
     "output_type": "stream",
     "text": [
      "[Parallel(n_jobs=-1)]: Done  53 out of  60 | elapsed:    0.5s remaining:    0.1s\n",
      "[Parallel(n_jobs=-1)]: Done  60 out of  60 | elapsed:    0.5s finished\n"
     ]
    },
    {
     "name": "stdout",
     "output_type": "stream",
     "text": [
      "complete_case removed 0 instances from validation data\n",
      "Injecting zero columns for features not present set()\n",
      "complete_case removed 0 instances from validation data\n",
      "Injecting zero columns for features not present set()\n",
      "complete_case removed 0 instances from validation data\n",
      "Injecting zero columns for features not present set()\n",
      "complete_case removed 0 instances from validation data\n",
      "Injecting zero columns for features not present set()\n",
      "complete_case removed 0 instances from validation data\n",
      "Injecting zero columns for features not present set()\n",
      "complete_case removed 0 instances from validation data\n",
      "Injecting zero columns for features not present set()\n",
      "Fitting 5 folds for each of 12 candidates, totalling 60 fits\n"
     ]
    },
    {
     "name": "stderr",
     "output_type": "stream",
     "text": [
      "[Parallel(n_jobs=-1)]: Using backend LokyBackend with 4 concurrent workers.\n",
      "[Parallel(n_jobs=-1)]: Done  53 out of  60 | elapsed:    0.4s remaining:    0.1s\n",
      "[Parallel(n_jobs=-1)]: Done  60 out of  60 | elapsed:    0.4s finished\n"
     ]
    },
    {
     "name": "stdout",
     "output_type": "stream",
     "text": [
      "complete_case removed 0 instances from validation data\n",
      "Injecting zero columns for features not present set()\n",
      "complete_case removed 0 instances from validation data\n",
      "Injecting zero columns for features not present set()\n",
      "Fitting 5 folds for each of 12 candidates, totalling 60 fits\n"
     ]
    },
    {
     "name": "stderr",
     "output_type": "stream",
     "text": [
      "[Parallel(n_jobs=-1)]: Using backend LokyBackend with 4 concurrent workers.\n",
      "[Parallel(n_jobs=-1)]: Done  53 out of  60 | elapsed:    0.4s remaining:    0.1s\n",
      "[Parallel(n_jobs=-1)]: Done  60 out of  60 | elapsed:    0.4s finished\n"
     ]
    },
    {
     "name": "stdout",
     "output_type": "stream",
     "text": [
      "complete_case removed 0 instances from validation data\n",
      "Injecting zero columns for features not present set()\n",
      "complete_case removed 0 instances from validation data\n",
      "Injecting zero columns for features not present set()\n",
      "complete_case removed 0 instances from training data\n",
      "complete_case removed 0 instances from validation data\n",
      "Injecting zero columns for features not present set()\n",
      "complete_case removed 0 instances from validation data\n",
      "Injecting zero columns for features not present set()\n",
      "complete_case removed 0 instances from validation data\n",
      "Injecting zero columns for features not present set()\n",
      "complete_case removed 0 instances from validation data\n",
      "Injecting zero columns for features not present set()\n",
      "Fitting 5 folds for each of 12 candidates, totalling 60 fits\n"
     ]
    },
    {
     "name": "stderr",
     "output_type": "stream",
     "text": [
      "[Parallel(n_jobs=-1)]: Using backend LokyBackend with 4 concurrent workers.\n",
      "[Parallel(n_jobs=-1)]: Done  53 out of  60 | elapsed:    0.5s remaining:    0.1s\n",
      "[Parallel(n_jobs=-1)]: Done  60 out of  60 | elapsed:    0.5s finished\n"
     ]
    },
    {
     "name": "stdout",
     "output_type": "stream",
     "text": [
      "complete_case removed 0 instances from validation data\n",
      "Injecting zero columns for features not present set()\n",
      "complete_case removed 0 instances from validation data\n",
      "Injecting zero columns for features not present set()\n",
      "Fitting 5 folds for each of 12 candidates, totalling 60 fits\n"
     ]
    },
    {
     "name": "stderr",
     "output_type": "stream",
     "text": [
      "[Parallel(n_jobs=-1)]: Using backend LokyBackend with 4 concurrent workers.\n",
      "[Parallel(n_jobs=-1)]: Done  60 out of  60 | elapsed:    0.5s finished\n"
     ]
    },
    {
     "name": "stdout",
     "output_type": "stream",
     "text": [
      "complete_case removed 0 instances from validation data\n",
      "Injecting zero columns for features not present set()\n",
      "complete_case removed 0 instances from validation data\n",
      "Injecting zero columns for features not present set()\n",
      "complete_case removed 0 instances from validation data\n",
      "Injecting zero columns for features not present set()\n",
      "complete_case removed 0 instances from validation data\n",
      "Injecting zero columns for features not present set()\n",
      "complete_case removed 0 instances from validation data\n",
      "Injecting zero columns for features not present set()\n",
      "complete_case removed 0 instances from validation data\n",
      "Injecting zero columns for features not present set()\n",
      "Fitting 5 folds for each of 12 candidates, totalling 60 fits\n"
     ]
    },
    {
     "name": "stderr",
     "output_type": "stream",
     "text": [
      "[Parallel(n_jobs=-1)]: Using backend LokyBackend with 4 concurrent workers.\n",
      "[Parallel(n_jobs=-1)]: Done  53 out of  60 | elapsed:    0.4s remaining:    0.1s\n",
      "[Parallel(n_jobs=-1)]: Done  60 out of  60 | elapsed:    0.4s finished\n"
     ]
    },
    {
     "name": "stdout",
     "output_type": "stream",
     "text": [
      "complete_case removed 0 instances from validation data\n",
      "Injecting zero columns for features not present set()\n",
      "complete_case removed 0 instances from validation data\n",
      "Injecting zero columns for features not present set()\n",
      "Fitting 5 folds for each of 12 candidates, totalling 60 fits\n"
     ]
    },
    {
     "name": "stderr",
     "output_type": "stream",
     "text": [
      "[Parallel(n_jobs=-1)]: Using backend LokyBackend with 4 concurrent workers.\n",
      "[Parallel(n_jobs=-1)]: Done  60 out of  60 | elapsed:    0.4s finished\n"
     ]
    },
    {
     "name": "stdout",
     "output_type": "stream",
     "text": [
      "complete_case removed 0 instances from validation data\n",
      "Injecting zero columns for features not present set()\n",
      "complete_case removed 0 instances from validation data\n",
      "Injecting zero columns for features not present set()\n",
      "complete_case removed 0 instances from training data\n",
      "complete_case removed 0 instances from validation data\n",
      "Injecting zero columns for features not present set()\n",
      "complete_case removed 0 instances from validation data\n",
      "Injecting zero columns for features not present set()\n",
      "complete_case removed 0 instances from validation data\n",
      "Injecting zero columns for features not present set()\n",
      "complete_case removed 0 instances from validation data\n",
      "Injecting zero columns for features not present set()\n",
      "Fitting 5 folds for each of 12 candidates, totalling 60 fits\n"
     ]
    },
    {
     "name": "stderr",
     "output_type": "stream",
     "text": [
      "[Parallel(n_jobs=-1)]: Using backend LokyBackend with 4 concurrent workers.\n",
      "[Parallel(n_jobs=-1)]: Done  53 out of  60 | elapsed:    0.4s remaining:    0.1s\n",
      "[Parallel(n_jobs=-1)]: Done  60 out of  60 | elapsed:    0.4s finished\n"
     ]
    },
    {
     "name": "stdout",
     "output_type": "stream",
     "text": [
      "complete_case removed 0 instances from validation data\n",
      "Injecting zero columns for features not present set()\n",
      "complete_case removed 0 instances from validation data\n",
      "Injecting zero columns for features not present set()\n",
      "Fitting 5 folds for each of 12 candidates, totalling 60 fits\n"
     ]
    },
    {
     "name": "stderr",
     "output_type": "stream",
     "text": [
      "[Parallel(n_jobs=-1)]: Using backend LokyBackend with 4 concurrent workers.\n",
      "[Parallel(n_jobs=-1)]: Done  53 out of  60 | elapsed:    0.4s remaining:    0.1s\n",
      "[Parallel(n_jobs=-1)]: Done  60 out of  60 | elapsed:    0.4s finished\n"
     ]
    },
    {
     "name": "stdout",
     "output_type": "stream",
     "text": [
      "complete_case removed 0 instances from validation data\n",
      "Injecting zero columns for features not present set()\n",
      "complete_case removed 0 instances from validation data\n",
      "Injecting zero columns for features not present set()\n",
      "complete_case removed 0 instances from validation data\n",
      "Injecting zero columns for features not present set()\n",
      "complete_case removed 0 instances from validation data\n",
      "Injecting zero columns for features not present set()\n",
      "complete_case removed 0 instances from validation data\n",
      "Injecting zero columns for features not present set()\n",
      "complete_case removed 0 instances from validation data\n",
      "Injecting zero columns for features not present set()\n",
      "Fitting 5 folds for each of 12 candidates, totalling 60 fits\n"
     ]
    },
    {
     "name": "stderr",
     "output_type": "stream",
     "text": [
      "[Parallel(n_jobs=-1)]: Using backend LokyBackend with 4 concurrent workers.\n",
      "[Parallel(n_jobs=-1)]: Done  53 out of  60 | elapsed:    0.4s remaining:    0.1s\n",
      "[Parallel(n_jobs=-1)]: Done  60 out of  60 | elapsed:    0.4s finished\n"
     ]
    },
    {
     "name": "stdout",
     "output_type": "stream",
     "text": [
      "complete_case removed 0 instances from validation data\n",
      "Injecting zero columns for features not present set()\n",
      "complete_case removed 0 instances from validation data\n",
      "Injecting zero columns for features not present set()\n",
      "Fitting 5 folds for each of 12 candidates, totalling 60 fits\n"
     ]
    },
    {
     "name": "stderr",
     "output_type": "stream",
     "text": [
      "[Parallel(n_jobs=-1)]: Using backend LokyBackend with 4 concurrent workers.\n",
      "[Parallel(n_jobs=-1)]: Done  53 out of  60 | elapsed:    0.5s remaining:    0.1s\n",
      "[Parallel(n_jobs=-1)]: Done  60 out of  60 | elapsed:    0.5s finished\n"
     ]
    },
    {
     "name": "stdout",
     "output_type": "stream",
     "text": [
      "complete_case removed 0 instances from validation data\n",
      "Injecting zero columns for features not present set()\n",
      "complete_case removed 0 instances from validation data\n",
      "Injecting zero columns for features not present set()\n",
      "complete_case removed 0 instances from training data\n",
      "complete_case removed 0 instances from validation data\n",
      "Injecting zero columns for features not present set()\n",
      "complete_case removed 0 instances from validation data\n",
      "Injecting zero columns for features not present set()\n",
      "complete_case removed 0 instances from validation data\n",
      "Injecting zero columns for features not present set()\n",
      "complete_case removed 0 instances from validation data\n",
      "Injecting zero columns for features not present set()\n",
      "Fitting 5 folds for each of 12 candidates, totalling 60 fits\n"
     ]
    },
    {
     "name": "stderr",
     "output_type": "stream",
     "text": [
      "[Parallel(n_jobs=-1)]: Using backend LokyBackend with 4 concurrent workers.\n",
      "[Parallel(n_jobs=-1)]: Done  60 out of  60 | elapsed:    0.5s finished\n"
     ]
    },
    {
     "name": "stdout",
     "output_type": "stream",
     "text": [
      "complete_case removed 0 instances from validation data\n",
      "Injecting zero columns for features not present set()\n",
      "complete_case removed 0 instances from validation data\n",
      "Injecting zero columns for features not present set()\n",
      "Fitting 5 folds for each of 12 candidates, totalling 60 fits\n"
     ]
    },
    {
     "name": "stderr",
     "output_type": "stream",
     "text": [
      "[Parallel(n_jobs=-1)]: Using backend LokyBackend with 4 concurrent workers.\n",
      "[Parallel(n_jobs=-1)]: Done  53 out of  60 | elapsed:    0.5s remaining:    0.1s\n",
      "[Parallel(n_jobs=-1)]: Done  60 out of  60 | elapsed:    0.5s finished\n"
     ]
    },
    {
     "name": "stdout",
     "output_type": "stream",
     "text": [
      "complete_case removed 0 instances from validation data\n",
      "Injecting zero columns for features not present set()\n",
      "complete_case removed 0 instances from validation data\n",
      "Injecting zero columns for features not present set()\n",
      "complete_case removed 0 instances from validation data\n",
      "Injecting zero columns for features not present set()\n",
      "complete_case removed 0 instances from validation data\n",
      "Injecting zero columns for features not present set()\n",
      "complete_case removed 0 instances from validation data\n",
      "Injecting zero columns for features not present set()\n",
      "complete_case removed 0 instances from validation data\n",
      "Injecting zero columns for features not present set()\n",
      "Fitting 5 folds for each of 12 candidates, totalling 60 fits\n"
     ]
    },
    {
     "name": "stderr",
     "output_type": "stream",
     "text": [
      "[Parallel(n_jobs=-1)]: Using backend LokyBackend with 4 concurrent workers.\n",
      "[Parallel(n_jobs=-1)]: Done  60 out of  60 | elapsed:    0.5s finished\n"
     ]
    },
    {
     "name": "stdout",
     "output_type": "stream",
     "text": [
      "complete_case removed 0 instances from validation data\n",
      "Injecting zero columns for features not present set()\n",
      "complete_case removed 0 instances from validation data\n",
      "Injecting zero columns for features not present set()\n",
      "Fitting 5 folds for each of 12 candidates, totalling 60 fits\n"
     ]
    },
    {
     "name": "stderr",
     "output_type": "stream",
     "text": [
      "[Parallel(n_jobs=-1)]: Using backend LokyBackend with 4 concurrent workers.\n",
      "[Parallel(n_jobs=-1)]: Done  60 out of  60 | elapsed:    0.4s finished\n"
     ]
    },
    {
     "name": "stdout",
     "output_type": "stream",
     "text": [
      "complete_case removed 0 instances from validation data\n",
      "Injecting zero columns for features not present set()\n",
      "complete_case removed 0 instances from validation data\n",
      "Injecting zero columns for features not present set()\n",
      "complete_case removed 0 instances from training data\n",
      "complete_case removed 0 instances from validation data\n",
      "Injecting zero columns for features not present set()\n",
      "complete_case removed 0 instances from validation data\n",
      "Injecting zero columns for features not present set()\n",
      "complete_case removed 0 instances from validation data\n",
      "Injecting zero columns for features not present set()\n",
      "complete_case removed 0 instances from validation data\n",
      "Injecting zero columns for features not present set()\n",
      "Fitting 5 folds for each of 12 candidates, totalling 60 fits\n"
     ]
    },
    {
     "name": "stderr",
     "output_type": "stream",
     "text": [
      "[Parallel(n_jobs=-1)]: Using backend LokyBackend with 4 concurrent workers.\n",
      "[Parallel(n_jobs=-1)]: Done  53 out of  60 | elapsed:    0.4s remaining:    0.1s\n",
      "[Parallel(n_jobs=-1)]: Done  60 out of  60 | elapsed:    0.5s finished\n"
     ]
    },
    {
     "name": "stdout",
     "output_type": "stream",
     "text": [
      "complete_case removed 0 instances from validation data\n",
      "Injecting zero columns for features not present set()\n",
      "complete_case removed 0 instances from validation data\n",
      "Injecting zero columns for features not present set()\n",
      "Fitting 5 folds for each of 12 candidates, totalling 60 fits\n"
     ]
    },
    {
     "name": "stderr",
     "output_type": "stream",
     "text": [
      "[Parallel(n_jobs=-1)]: Using backend LokyBackend with 4 concurrent workers.\n",
      "[Parallel(n_jobs=-1)]: Done  53 out of  60 | elapsed:    0.5s remaining:    0.1s\n",
      "[Parallel(n_jobs=-1)]: Done  60 out of  60 | elapsed:    0.5s finished\n"
     ]
    },
    {
     "name": "stdout",
     "output_type": "stream",
     "text": [
      "complete_case removed 0 instances from validation data\n",
      "Injecting zero columns for features not present set()\n",
      "complete_case removed 0 instances from validation data\n",
      "Injecting zero columns for features not present set()\n",
      "complete_case removed 0 instances from validation data\n",
      "Injecting zero columns for features not present set()\n",
      "complete_case removed 0 instances from validation data\n",
      "Injecting zero columns for features not present set()\n",
      "complete_case removed 0 instances from validation data\n",
      "Injecting zero columns for features not present set()\n",
      "complete_case removed 0 instances from validation data\n",
      "Injecting zero columns for features not present set()\n",
      "Fitting 5 folds for each of 12 candidates, totalling 60 fits\n"
     ]
    },
    {
     "name": "stderr",
     "output_type": "stream",
     "text": [
      "[Parallel(n_jobs=-1)]: Using backend LokyBackend with 4 concurrent workers.\n",
      "[Parallel(n_jobs=-1)]: Done  53 out of  60 | elapsed:    0.4s remaining:    0.1s\n",
      "[Parallel(n_jobs=-1)]: Done  60 out of  60 | elapsed:    0.4s finished\n"
     ]
    },
    {
     "name": "stdout",
     "output_type": "stream",
     "text": [
      "complete_case removed 0 instances from validation data\n",
      "Injecting zero columns for features not present set()\n",
      "complete_case removed 0 instances from validation data\n",
      "Injecting zero columns for features not present set()\n",
      "Fitting 5 folds for each of 12 candidates, totalling 60 fits\n"
     ]
    },
    {
     "name": "stderr",
     "output_type": "stream",
     "text": [
      "[Parallel(n_jobs=-1)]: Using backend LokyBackend with 4 concurrent workers.\n",
      "[Parallel(n_jobs=-1)]: Done  60 out of  60 | elapsed:    0.4s finished\n"
     ]
    },
    {
     "name": "stdout",
     "output_type": "stream",
     "text": [
      "complete_case removed 0 instances from validation data\n",
      "Injecting zero columns for features not present set()\n",
      "complete_case removed 0 instances from validation data\n",
      "Injecting zero columns for features not present set()\n",
      "complete_case removed 0 instances from training data\n",
      "complete_case removed 0 instances from validation data\n",
      "Injecting zero columns for features not present set()\n",
      "complete_case removed 0 instances from validation data\n",
      "Injecting zero columns for features not present set()\n",
      "complete_case removed 0 instances from validation data\n",
      "Injecting zero columns for features not present set()\n",
      "complete_case removed 0 instances from validation data\n",
      "Injecting zero columns for features not present set()\n",
      "Fitting 5 folds for each of 12 candidates, totalling 60 fits\n"
     ]
    },
    {
     "name": "stderr",
     "output_type": "stream",
     "text": [
      "[Parallel(n_jobs=-1)]: Using backend LokyBackend with 4 concurrent workers.\n",
      "[Parallel(n_jobs=-1)]: Done  53 out of  60 | elapsed:    0.5s remaining:    0.1s\n",
      "[Parallel(n_jobs=-1)]: Done  60 out of  60 | elapsed:    0.5s finished\n"
     ]
    },
    {
     "name": "stdout",
     "output_type": "stream",
     "text": [
      "complete_case removed 0 instances from validation data\n",
      "Injecting zero columns for features not present set()\n",
      "complete_case removed 0 instances from validation data\n",
      "Injecting zero columns for features not present set()\n",
      "Fitting 5 folds for each of 12 candidates, totalling 60 fits\n"
     ]
    },
    {
     "name": "stderr",
     "output_type": "stream",
     "text": [
      "[Parallel(n_jobs=-1)]: Using backend LokyBackend with 4 concurrent workers.\n",
      "[Parallel(n_jobs=-1)]: Done  53 out of  60 | elapsed:    0.4s remaining:    0.1s\n",
      "[Parallel(n_jobs=-1)]: Done  60 out of  60 | elapsed:    0.5s finished\n"
     ]
    },
    {
     "name": "stdout",
     "output_type": "stream",
     "text": [
      "complete_case removed 0 instances from validation data\n",
      "Injecting zero columns for features not present set()\n",
      "complete_case removed 0 instances from validation data\n",
      "Injecting zero columns for features not present set()\n",
      "complete_case removed 0 instances from validation data\n",
      "Injecting zero columns for features not present set()\n",
      "complete_case removed 0 instances from validation data\n",
      "Injecting zero columns for features not present set()\n",
      "complete_case removed 0 instances from validation data\n",
      "Injecting zero columns for features not present set()\n",
      "complete_case removed 0 instances from validation data\n",
      "Injecting zero columns for features not present set()\n",
      "Fitting 5 folds for each of 12 candidates, totalling 60 fits\n"
     ]
    },
    {
     "name": "stderr",
     "output_type": "stream",
     "text": [
      "[Parallel(n_jobs=-1)]: Using backend LokyBackend with 4 concurrent workers.\n",
      "[Parallel(n_jobs=-1)]: Done  53 out of  60 | elapsed:    0.4s remaining:    0.1s\n",
      "[Parallel(n_jobs=-1)]: Done  60 out of  60 | elapsed:    0.4s finished\n"
     ]
    },
    {
     "name": "stdout",
     "output_type": "stream",
     "text": [
      "complete_case removed 0 instances from validation data\n",
      "Injecting zero columns for features not present set()\n",
      "complete_case removed 0 instances from validation data\n",
      "Injecting zero columns for features not present set()\n",
      "Fitting 5 folds for each of 12 candidates, totalling 60 fits\n"
     ]
    },
    {
     "name": "stderr",
     "output_type": "stream",
     "text": [
      "[Parallel(n_jobs=-1)]: Using backend LokyBackend with 4 concurrent workers.\n",
      "[Parallel(n_jobs=-1)]: Done  60 out of  60 | elapsed:    0.5s finished\n"
     ]
    },
    {
     "name": "stdout",
     "output_type": "stream",
     "text": [
      "complete_case removed 0 instances from validation data\n",
      "Injecting zero columns for features not present set()\n",
      "complete_case removed 0 instances from validation data\n",
      "Injecting zero columns for features not present set()\n"
     ]
    }
   ],
   "source": [
    "def run_exp(seeds, learners, pre_processors, post_processors, optimal_validation_strategies):\n",
    "    '''\n",
    "    This is the main driver function that calls the calculate_metrics to give metrices on combinations of various learners, pre and post processing techniques.\n",
    "    '''\n",
    "    total_experiments = len(pre_processors) * len(post_processors) * len(learners)\n",
    "    #pd.set_option(\"display.max_rows\", None, \"display.max_columns\", None)\n",
    "    accuracy, disp_imp, fnr, fpr, label, optimal = [], [], [], [], [], []\n",
    "    for j in range(total_experiments):\n",
    "        accuracy.append(list())\n",
    "        disp_imp.append(list())\n",
    "        fnr.append(list())\n",
    "        fpr.append(list())\n",
    "        label.append(list())\n",
    "        optimal.append(list())\n",
    "    for seed in seeds:  \n",
    "        learner_acc, learner_di, learner_fnr, learner_fpr, learner_label, learner_optimal = [], [], [], [], [], []\n",
    "        calculate_metrics(seed, learners, pre_processors, post_processors, optimal_validation_strategies)\n",
    "        extract_info(learner_acc, learner_di, learner_fnr, learner_fpr, learner_label, learner_optimal)\n",
    "        for i in range(len(learner_acc)):\n",
    "            accuracy[i].append(learner_acc[i])\n",
    "            disp_imp[i].append(learner_di[i])\n",
    "            fnr[i].append(learner_fnr[i])\n",
    "            fpr[i].append(learner_fpr[i])\n",
    "            #label[i].append(learner_label[i])\n",
    "            optimal[i].append(learner_optimal[i])\n",
    "    label = learner_label\n",
    "    \n",
    "    return accuracy, disp_imp, fnr, fpr, label, optimal\n",
    "    #return learner_acc, learner_di, learner_fnr, learner_fpr, label, optimal\n",
    "\n",
    "s_accuracy, s_disp_imp, s_fnr, s_fpr, s_label, s_optimal  = run_exp(seeds, learners, pre_processors, post_processors, skyline_order)\n",
    "\n",
    "#Converting string types to floating values for plotting\n",
    "\n",
    "accuracy, disp_imp, fnr, fpr = [],[],[],[]\n",
    "for item in s_accuracy:\n",
    "    temp_list = list()\n",
    "    for i in item:\n",
    "        temp_list.append(float(i))\n",
    "    accuracy.append(temp_list)\n",
    "\n",
    "for item in s_disp_imp:\n",
    "    temp_list = list()\n",
    "    for i in item:\n",
    "        temp_list.append(float(i))\n",
    "    disp_imp.append(temp_list)\n",
    "\n",
    "for item in s_fnr:\n",
    "    temp_list = list()\n",
    "    for i in item:\n",
    "        temp_list.append(float(i))\n",
    "    fnr.append(temp_list)\n",
    "\n",
    "for item in s_fpr:\n",
    "    temp_list = list()\n",
    "    for i in item:\n",
    "        temp_list.append(float(i))\n",
    "    fpr.append(temp_list)\n",
    "\n",
    "title_list = s_label"
   ]
  },
  {
   "cell_type": "code",
   "execution_count": 5,
   "metadata": {},
   "outputs": [],
   "source": [
    "def plotter(s_optimal, title_list, label_list, x, y, x_ticks, x_label, main_title):\n",
    "    '''\n",
    "    Function to plot various comparison plots.\n",
    "    '''\n",
    "    #update label list and title list as per the experiment being performed.\n",
    "    fig, axs = plt.subplots(len(pre_processors), len(post_processors), figsize=((10,20)))\n",
    "    axs = axs.flatten()\n",
    "    for i in range(0, len(y), 2):\n",
    "        loc = i//2\n",
    "        for k in range(len(x[i])):\n",
    "            if s_optimal[i][k]:\n",
    "                axs[loc].scatter(x[i][k], y[i][k], c='y', marker='o')\n",
    "            else:\n",
    "                axs[loc].scatter(x[i][k], y[i][k], c='b', marker='o')\n",
    "            if s_optimal[i+1][k]:\n",
    "                axs[loc].scatter(x[i+1][k], y[i+1][k], c='g', marker='o')\n",
    "            else:\n",
    "                axs[loc].scatter(x[i+1][k], y[i+1][k], c='r', marker='o')\n",
    "        axs[loc].set_xticks(x_ticks)\n",
    "        axs[loc].set_yticks(np.arange(0.5, 1, 0.1))\n",
    "        axs[loc].set_title(title_list[i])\n",
    "        axs[loc].grid(True)\n",
    "        axs[loc].set_xlabel(x_label)\n",
    "        axs[loc].set_ylabel('Accuracy')\n",
    "        axs[loc].legend(label_list[int(i%(len(label_list)*2)/2)])\n",
    "    fig.suptitle(main_title)\n",
    "    plt.subplots_adjust(wspace=0.3, hspace=0.43)\n",
    "    fig.savefig('examples_skyline/' + main_title + '.png')\n",
    "    plt.show()\n",
    "\n",
    "plotter(s_optimal, title_list, label_list, x=disp_imp, y=accuracy, x_ticks=[0.5, 1, 1.5], x_label='DI', main_title='accuracy_vs_di-skyline-order')\n",
    "plotter(s_optimal, title_list, label_list, x=fnr, y=accuracy, x_ticks=[-0.4, 0, 0.4], x_label='FNR', main_title='accuracy_vs_fnr-skyline-order')\n",
    "plotter(s_optimal, title_list, label_list, x=fpr, y=accuracy, x_ticks=[-0.4, 0, 0.4], x_label='FPR', main_title='accuracy_vs_fpr-skyline-order')"
   ]
  },
  {
   "cell_type": "code",
   "execution_count": null,
   "metadata": {},
   "outputs": [],
   "source": []
  }
 ],
 "metadata": {
  "kernelspec": {
   "display_name": "Python 3",
   "language": "python",
   "name": "python3"
  },
  "language_info": {
   "codemirror_mode": {
    "name": "ipython",
    "version": 3
   },
   "file_extension": ".py",
   "mimetype": "text/x-python",
   "name": "python",
   "nbconvert_exporter": "python",
   "pygments_lexer": "ipython3",
   "version": "3.7.3"
  }
 },
 "nbformat": 4,
 "nbformat_minor": 1
}
