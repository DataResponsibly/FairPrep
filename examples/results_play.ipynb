{
 "cells": [
  {
   "cell_type": "code",
   "execution_count": 1,
   "metadata": {},
   "outputs": [],
   "source": [
    "#load relevant libraries\n",
    "import os\n",
    "import sys\n",
    "import pathlib\n",
    "import shutil\n",
    "import warnings\n",
    "warnings.simplefilter('ignore')\n",
    "from helper import extract_info\n",
    "\n",
    "os.chdir('..')\n",
    "# parent_dir = os.path.dirname(os.getcwd())\n",
    "# sys.path.append(parent_dir)\n",
    "\n",
    "from fp.traindata_samplers import CompleteData\n",
    "from fp.missingvalue_handlers import CompleteCaseAnalysis\n",
    "from fp.dataset_experiments import GermanCreditDatasetSexExperiment\n",
    "from fp.scalers import NamedStandardScaler, NamedMinMaxScaler\n",
    "from fp.learners import NonTunedLogisticRegression, LogisticRegression, DecisionTree, NonTunedLogisticRegression, NonTunedDecisionTree          \n",
    "from fp.post_processors import NoPostProcessing, RejectOptionPostProcessing, EqualOddsPostProcessing, CalibratedEqualOddsPostProcessing\n",
    "from fp.pre_processors import NoPreProcessing, DIRemover, Reweighing\n",
    "\n",
    "import numpy as np\n",
    "import matplotlib.pyplot as plt"
   ]
  },
  {
   "cell_type": "code",
   "execution_count": 2,
   "metadata": {},
   "outputs": [],
   "source": [
    "#parameters in this cell can be adjusted for experimentation\n",
    "\n",
    "seeds = [0xbeef, 0xcafe, 0xdead, 0xdeadcafe, 0xdeadbeef, 0xbeefcafe, 0xcafebeef, 50, 583, 5278, 100000, 0xefac,0xfeeb, 0xdaed, 0xefacdaed, 0xfeebdead]\n",
    "learners = [NonTunedLogisticRegression(), LogisticRegression()] \n",
    "#tuned and non tuned DecisionTree() can also be used.\n",
    "\n",
    "#pairs of pre and post processors\n",
    "processors = [(NoPreProcessing(), NoPostProcessing()), (DIRemover(1.0), NoPostProcessing()), (DIRemover(0.5), NoPostProcessing()), (Reweighing(), NoPostProcessing()),\n",
    "              (NoPreProcessing(), RejectOptionPostProcessing()), (NoPreProcessing(), CalibratedEqualOddsPostProcessing())]\n",
    "\n",
    "#update these for the purpose of plotting as per your experiment\n",
    "title_list = ['NoPreProcessing', 'DIRemover(1.0)', 'DIRemover(0.5)', 'Reweighing', 'Reject Option', 'Caliberated Equal Odds']\n",
    "#add pair wise tuples for each pair of learners.\n",
    "label_list = [('NonTunedLogistic', 'TunedLogistic')]"
   ]
  },
  {
   "cell_type": "code",
   "execution_count": 3,
   "metadata": {},
   "outputs": [],
   "source": [
    "def calculate_metrics(seed, learner, pre_processor, post_processor):\n",
    "    '''\n",
    "    Experiment function to run the experiments\n",
    "    '''\n",
    "    exp = GermanCreditDatasetSexExperiment(\n",
    "        fixed_random_seed=seed,\n",
    "        train_data_sampler=CompleteData(),\n",
    "        missing_value_handler=CompleteCaseAnalysis(),\n",
    "        numeric_attribute_scaler=NamedStandardScaler(),\n",
    "        learners=[learner],\n",
    "        pre_processors=[pre_processor],\n",
    "        post_processors=[post_processor],\n",
    "        optimal_validation_strategy=[])\n",
    "    exp.run()"
   ]
  },
  {
   "cell_type": "code",
   "execution_count": 4,
   "metadata": {
    "scrolled": false
   },
   "outputs": [
    {
     "name": "stdout",
     "output_type": "stream",
     "text": [
      "complete_case removed 0 instances from training data\n",
      "complete_case removed 0 instances from validation data\n",
      "Injecting zero columns for features not present set()\n",
      "complete_case removed 0 instances from validation data\n",
      "Injecting zero columns for features not present set()\n",
      "complete_case removed 0 instances from training data\n",
      "complete_case removed 0 instances from validation data\n",
      "Injecting zero columns for features not present set()\n",
      "complete_case removed 0 instances from validation data\n",
      "Injecting zero columns for features not present set()\n",
      "complete_case removed 0 instances from training data\n",
      "Fitting 5 folds for each of 12 candidates, totalling 60 fits\n"
     ]
    },
    {
     "name": "stderr",
     "output_type": "stream",
     "text": [
      "[Parallel(n_jobs=-1)]: Using backend LokyBackend with 4 concurrent workers.\n",
      "[Parallel(n_jobs=-1)]: Done  60 out of  60 | elapsed:    1.7s finished\n",
      "[Parallel(n_jobs=-1)]: Using backend LokyBackend with 4 concurrent workers.\n"
     ]
    },
    {
     "name": "stdout",
     "output_type": "stream",
     "text": [
      "complete_case removed 0 instances from validation data\n",
      "Injecting zero columns for features not present set()\n",
      "complete_case removed 0 instances from validation data\n",
      "Injecting zero columns for features not present set()\n",
      "complete_case removed 0 instances from training data\n",
      "Fitting 5 folds for each of 12 candidates, totalling 60 fits\n"
     ]
    },
    {
     "name": "stderr",
     "output_type": "stream",
     "text": [
      "[Parallel(n_jobs=-1)]: Done  60 out of  60 | elapsed:    0.3s finished\n"
     ]
    },
    {
     "name": "stdout",
     "output_type": "stream",
     "text": [
      "complete_case removed 0 instances from validation data\n",
      "Injecting zero columns for features not present set()\n",
      "complete_case removed 0 instances from validation data\n",
      "Injecting zero columns for features not present set()\n",
      "complete_case removed 0 instances from training data\n",
      "complete_case removed 0 instances from validation data\n",
      "Injecting zero columns for features not present set()\n",
      "complete_case removed 0 instances from validation data\n",
      "Injecting zero columns for features not present set()\n",
      "complete_case removed 0 instances from training data\n",
      "complete_case removed 0 instances from validation data\n",
      "Injecting zero columns for features not present set()\n",
      "complete_case removed 0 instances from validation data\n",
      "Injecting zero columns for features not present set()\n",
      "complete_case removed 0 instances from training data\n",
      "Fitting 5 folds for each of 12 candidates, totalling 60 fits\n"
     ]
    },
    {
     "name": "stderr",
     "output_type": "stream",
     "text": [
      "[Parallel(n_jobs=-1)]: Using backend LokyBackend with 4 concurrent workers.\n",
      "[Parallel(n_jobs=-1)]: Done  53 out of  60 | elapsed:    0.3s remaining:    0.0s\n",
      "[Parallel(n_jobs=-1)]: Done  60 out of  60 | elapsed:    0.3s finished\n"
     ]
    },
    {
     "name": "stdout",
     "output_type": "stream",
     "text": [
      "complete_case removed 0 instances from validation data\n",
      "Injecting zero columns for features not present set()\n",
      "complete_case removed 0 instances from validation data\n",
      "Injecting zero columns for features not present set()\n",
      "complete_case removed 0 instances from training data\n",
      "Fitting 5 folds for each of 12 candidates, totalling 60 fits\n"
     ]
    },
    {
     "name": "stderr",
     "output_type": "stream",
     "text": [
      "[Parallel(n_jobs=-1)]: Using backend LokyBackend with 4 concurrent workers.\n",
      "[Parallel(n_jobs=-1)]: Done  60 out of  60 | elapsed:    0.3s finished\n"
     ]
    },
    {
     "name": "stdout",
     "output_type": "stream",
     "text": [
      "complete_case removed 0 instances from validation data\n",
      "Injecting zero columns for features not present set()\n",
      "complete_case removed 0 instances from validation data\n",
      "Injecting zero columns for features not present set()\n",
      "complete_case removed 0 instances from training data\n",
      "complete_case removed 0 instances from validation data\n",
      "Injecting zero columns for features not present set()\n",
      "complete_case removed 0 instances from validation data\n",
      "Injecting zero columns for features not present set()\n",
      "complete_case removed 0 instances from training data\n",
      "complete_case removed 0 instances from validation data\n",
      "Injecting zero columns for features not present set()\n",
      "complete_case removed 0 instances from validation data\n",
      "Injecting zero columns for features not present set()\n",
      "complete_case removed 0 instances from training data\n",
      "Fitting 5 folds for each of 12 candidates, totalling 60 fits\n"
     ]
    },
    {
     "name": "stderr",
     "output_type": "stream",
     "text": [
      "[Parallel(n_jobs=-1)]: Using backend LokyBackend with 4 concurrent workers.\n",
      "[Parallel(n_jobs=-1)]: Done  60 out of  60 | elapsed:    0.3s finished\n",
      "[Parallel(n_jobs=-1)]: Using backend LokyBackend with 4 concurrent workers.\n"
     ]
    },
    {
     "name": "stdout",
     "output_type": "stream",
     "text": [
      "complete_case removed 0 instances from validation data\n",
      "Injecting zero columns for features not present set()\n",
      "complete_case removed 0 instances from validation data\n",
      "Injecting zero columns for features not present set()\n",
      "complete_case removed 0 instances from training data\n",
      "Fitting 5 folds for each of 12 candidates, totalling 60 fits\n"
     ]
    },
    {
     "name": "stderr",
     "output_type": "stream",
     "text": [
      "[Parallel(n_jobs=-1)]: Done  53 out of  60 | elapsed:    0.3s remaining:    0.0s\n",
      "[Parallel(n_jobs=-1)]: Done  60 out of  60 | elapsed:    0.3s finished\n"
     ]
    },
    {
     "name": "stdout",
     "output_type": "stream",
     "text": [
      "complete_case removed 0 instances from validation data\n",
      "Injecting zero columns for features not present set()\n",
      "complete_case removed 0 instances from validation data\n",
      "Injecting zero columns for features not present set()\n",
      "complete_case removed 0 instances from training data\n",
      "complete_case removed 0 instances from validation data\n",
      "Injecting zero columns for features not present set()\n",
      "complete_case removed 0 instances from validation data\n",
      "Injecting zero columns for features not present set()\n",
      "complete_case removed 0 instances from training data\n",
      "complete_case removed 0 instances from validation data\n",
      "Injecting zero columns for features not present set()\n",
      "complete_case removed 0 instances from validation data\n",
      "Injecting zero columns for features not present set()\n",
      "complete_case removed 0 instances from training data\n",
      "Fitting 5 folds for each of 12 candidates, totalling 60 fits\n"
     ]
    },
    {
     "name": "stderr",
     "output_type": "stream",
     "text": [
      "[Parallel(n_jobs=-1)]: Using backend LokyBackend with 4 concurrent workers.\n",
      "[Parallel(n_jobs=-1)]: Done  53 out of  60 | elapsed:    0.3s remaining:    0.0s\n",
      "[Parallel(n_jobs=-1)]: Done  60 out of  60 | elapsed:    0.3s finished\n",
      "[Parallel(n_jobs=-1)]: Using backend LokyBackend with 4 concurrent workers.\n"
     ]
    },
    {
     "name": "stdout",
     "output_type": "stream",
     "text": [
      "complete_case removed 0 instances from validation data\n",
      "Injecting zero columns for features not present set()\n",
      "complete_case removed 0 instances from validation data\n",
      "Injecting zero columns for features not present set()\n",
      "complete_case removed 0 instances from training data\n",
      "Fitting 5 folds for each of 12 candidates, totalling 60 fits\n"
     ]
    },
    {
     "name": "stderr",
     "output_type": "stream",
     "text": [
      "[Parallel(n_jobs=-1)]: Done  60 out of  60 | elapsed:    0.3s finished\n"
     ]
    },
    {
     "name": "stdout",
     "output_type": "stream",
     "text": [
      "complete_case removed 0 instances from validation data\n",
      "Injecting zero columns for features not present set()\n",
      "complete_case removed 0 instances from validation data\n",
      "Injecting zero columns for features not present set()\n",
      "complete_case removed 0 instances from training data\n",
      "complete_case removed 0 instances from validation data\n",
      "Injecting zero columns for features not present set()\n",
      "complete_case removed 0 instances from validation data\n",
      "Injecting zero columns for features not present set()\n",
      "complete_case removed 0 instances from training data\n",
      "complete_case removed 0 instances from validation data\n",
      "Injecting zero columns for features not present set()\n",
      "complete_case removed 0 instances from validation data\n",
      "Injecting zero columns for features not present set()\n",
      "complete_case removed 0 instances from training data\n",
      "Fitting 5 folds for each of 12 candidates, totalling 60 fits\n"
     ]
    },
    {
     "name": "stderr",
     "output_type": "stream",
     "text": [
      "[Parallel(n_jobs=-1)]: Using backend LokyBackend with 4 concurrent workers.\n",
      "[Parallel(n_jobs=-1)]: Done  60 out of  60 | elapsed:    0.3s finished\n"
     ]
    },
    {
     "name": "stdout",
     "output_type": "stream",
     "text": [
      "complete_case removed 0 instances from validation data\n",
      "Injecting zero columns for features not present set()\n",
      "complete_case removed 0 instances from validation data\n",
      "Injecting zero columns for features not present set()\n",
      "complete_case removed 0 instances from training data\n",
      "Fitting 5 folds for each of 12 candidates, totalling 60 fits\n"
     ]
    },
    {
     "name": "stderr",
     "output_type": "stream",
     "text": [
      "[Parallel(n_jobs=-1)]: Using backend LokyBackend with 4 concurrent workers.\n",
      "[Parallel(n_jobs=-1)]: Done  53 out of  60 | elapsed:    0.3s remaining:    0.0s\n",
      "[Parallel(n_jobs=-1)]: Done  60 out of  60 | elapsed:    0.3s finished\n"
     ]
    },
    {
     "name": "stdout",
     "output_type": "stream",
     "text": [
      "complete_case removed 0 instances from validation data\n",
      "Injecting zero columns for features not present set()\n",
      "complete_case removed 0 instances from validation data\n",
      "Injecting zero columns for features not present set()\n",
      "complete_case removed 0 instances from training data\n",
      "complete_case removed 0 instances from validation data\n",
      "Injecting zero columns for features not present set()\n",
      "complete_case removed 0 instances from validation data\n",
      "Injecting zero columns for features not present set()\n",
      "complete_case removed 0 instances from training data\n",
      "complete_case removed 0 instances from validation data\n",
      "Injecting zero columns for features not present set()\n",
      "complete_case removed 0 instances from validation data\n",
      "Injecting zero columns for features not present set()\n",
      "complete_case removed 0 instances from training data\n",
      "Fitting 5 folds for each of 12 candidates, totalling 60 fits\n"
     ]
    },
    {
     "name": "stderr",
     "output_type": "stream",
     "text": [
      "[Parallel(n_jobs=-1)]: Using backend LokyBackend with 4 concurrent workers.\n",
      "[Parallel(n_jobs=-1)]: Done  60 out of  60 | elapsed:    0.3s finished\n",
      "[Parallel(n_jobs=-1)]: Using backend LokyBackend with 4 concurrent workers.\n"
     ]
    },
    {
     "name": "stdout",
     "output_type": "stream",
     "text": [
      "complete_case removed 0 instances from validation data\n",
      "Injecting zero columns for features not present set()\n",
      "complete_case removed 0 instances from validation data\n",
      "Injecting zero columns for features not present set()\n",
      "complete_case removed 0 instances from training data\n",
      "Fitting 5 folds for each of 12 candidates, totalling 60 fits\n",
      "complete_case removed 0 instances from validation data\n",
      "Injecting zero columns for features not present set()\n",
      "complete_case removed 0 instances from validation data\n",
      "Injecting zero columns for features not present set()\n"
     ]
    },
    {
     "name": "stderr",
     "output_type": "stream",
     "text": [
      "[Parallel(n_jobs=-1)]: Done  53 out of  60 | elapsed:    0.3s remaining:    0.0s\n",
      "[Parallel(n_jobs=-1)]: Done  60 out of  60 | elapsed:    0.3s finished\n"
     ]
    }
   ],
   "source": [
    "def run_exp(seeds, learners, processors):\n",
    "    '''\n",
    "    This is the main driver function that calls the calculate_metrics to give metrices on combinations of various learners, pre and post processing techniques.\n",
    "    '''\n",
    "    accuracy, disp_imp, fnr, fpr = [], [], [], []\n",
    "    for processor in processors:\n",
    "        for learner in learners:\n",
    "            learner_acc, learner_di, learner_fnr, learner_fpr = [], [], [], []\n",
    "            for seed in seeds:    \n",
    "                calculate_metrics(seed, learner, pre_processor=processor[0], post_processor=processor[1])\n",
    "                extract_info(learner_acc, learner_di, learner_fnr, learner_fpr)\n",
    "            accuracy.append(learner_acc)\n",
    "            disp_imp.append(learner_di)\n",
    "            fnr.append(learner_fnr)\n",
    "            fpr.append(learner_fpr)\n",
    "    \n",
    "    return accuracy, disp_imp, fnr, fpr\n",
    "\n",
    "accuracy, disp_imp, fnr, fpr  = run_exp(seeds, learners, processors)"
   ]
  },
  {
   "cell_type": "code",
   "execution_count": 5,
   "metadata": {},
   "outputs": [],
   "source": [
    "def plotter(title_list, label_list, x, y, x_ticks, x_label, main_title):\n",
    "    '''\n",
    "    Function to plot various comparison plots.\n",
    "    '''\n",
    "    #update label list and title list as per the experiment being performed.\n",
    "    fig, axs = plt.subplots(len(title_list), len(label_list), figsize=((10,20)))\n",
    "    axs = axs.flatten()\n",
    "    for i in range(0, len(y), 2):\n",
    "        loc = i//2\n",
    "        axs[loc].scatter([float(valuei) for valuei in x[i]], [float(valuei) for valuei in y[i]], c='b', marker='o')\n",
    "        axs[loc].scatter([float(valuei) for valuei in x[i+1]], [float(valuei) for valuei in y[i+1]], c='r', marker='o')\n",
    "        axs[loc].set_xticks(x_ticks)\n",
    "        axs[loc].set_yticks(np.arange(0.5, 1, 0.1))\n",
    "        axs[loc].set_title(title_list[i//4])\n",
    "        axs[loc].grid(True)\n",
    "        axs[loc].set_xlabel(x_label)\n",
    "        axs[loc].set_ylabel('Accuracy')\n",
    "        axs[loc].legend(label_list[int(i%(len(label_list)*2)/2)])\n",
    "    fig.suptitle(main_title)\n",
    "    plt.subplots_adjust(wspace=0.3, hspace=0.43)\n",
    "    fig.savefig('examples/' + main_title + '.png')\n",
    "    plt.show()\n",
    "\n",
    "plotter(title_list, label_list, x=disp_imp, y=accuracy, x_ticks=[0.5, 1, 1.5], x_label='DI', main_title='accuracy_vs_di')\n",
    "plotter(title_list, label_list, x=fnr, y=accuracy, x_ticks=[-0.4, 0, 0.4], x_label='FNR', main_title='accuracy_vs_fnr')\n",
    "plotter(title_list, label_list, x=fpr, y=accuracy, x_ticks=[-0.4, 0, 0.4], x_label='FPR', main_title='accuracy_vs_fpr')"
   ]
  }
 ],
 "metadata": {
  "kernelspec": {
   "display_name": "Python 3",
   "language": "python",
   "name": "python3"
  },
  "language_info": {
   "codemirror_mode": {
    "name": "ipython",
    "version": 3
   },
   "file_extension": ".py",
   "mimetype": "text/x-python",
   "name": "python",
   "nbconvert_exporter": "python",
   "pygments_lexer": "ipython3",
   "version": "3.7.3"
  }
 },
 "nbformat": 4,
 "nbformat_minor": 1
}
