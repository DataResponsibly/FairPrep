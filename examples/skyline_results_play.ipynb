{
 "cells": [
  {
   "cell_type": "code",
   "execution_count": 1,
   "metadata": {},
   "outputs": [],
   "source": [
    "import numpy as np\n",
    "import pandas as pd\n",
    "import pathlib\n",
    "\n",
    "import os\n",
    "os.chdir('..')\n",
    "\n",
    "import warnings\n",
    "warnings.simplefilter('ignore')\n",
    "\n",
    "from fp.traindata_samplers import CompleteData\n",
    "from fp.missingvalue_handlers import CompleteCaseAnalysis\n",
    "from fp.dataset_experiments import GermanCreditDatasetSexExperiment\n",
    "from fp.scalers import NamedStandardScaler\n",
    "from fp.learners import LogisticRegression, DecisionTree\n",
    "from fp.post_processors import NoPostProcessing, RejectOptionPostProcessing\n",
    "from fp.pre_processors import NoPreProcessing, DIRemover\n",
    "\n",
    "\n",
    "import matplotlib.pyplot as plt\n",
    "import seaborn as sns"
   ]
  },
  {
   "cell_type": "code",
   "execution_count": 2,
   "metadata": {},
   "outputs": [],
   "source": [
    "# creating list of parameters that we will alter to observe variations\n",
    "seeds = [0xbeef, 0xcafe, 0xdead]\n",
    "learners = [LogisticRegression()]\n",
    "\n",
    "processors = [(NoPreProcessing(), NoPostProcessing()), (DIRemover(1.0), NoPostProcessing()), (NoPreProcessing(), RejectOptionPostProcessing())]\n",
    "\n",
    "\n",
    "# specify the strategy to filter the optimal results on validation set from alll the settings of processors above.\n",
    "# E.g. if a list ['accuracy', 'selection_rate', 'false_discovery_rate'] is specified, the optimal result is the setting with highest accuracy, selection rate and false discovery rate. If two settings have the same accuracy, the one with highest selection rate is the optimal one, etc. The input list specifies a skyline order to select the optimal one.\n",
    "# E.g. if a dict {'accuracy': 0.5, 'selection_rate': 0.3, 'false_discovery_rate': 0.2} is specified, the optimal result is the setting with highest values from formula accuracy*0.5+selection_rate*0.3+false_discovery_rate*0.2.\n",
    "# If more than one settings have the highest value by the above strategies, then all of the settings are returned as optimal.\n",
    "filter_res_on_val_by_order = ['accuracy', 'selection_rate', 'false_discovery_rate']\n",
    "filter_res_on_val_by_weight_sum = {'accuracy': 0.5, 'selection_rate': 0.3, 'false_discovery_rate': 0.2}"
   ]
  },
  {
   "cell_type": "code",
   "execution_count": 3,
   "metadata": {},
   "outputs": [],
   "source": [
    "def calculate_metrics(seed, learners, pre_processors, post_processors, filter_val_strategy):\n",
    "    '''\n",
    "        Experiment function to run the experiments with multiple combinations of learners and processors in the input\n",
    "    '''\n",
    "    exp = GermanCreditDatasetSexExperiment(\n",
    "        fixed_random_seed=seed,\n",
    "        train_data_sampler=CompleteData(),\n",
    "        missing_value_handler=CompleteCaseAnalysis(),\n",
    "        numeric_attribute_scaler=NamedStandardScaler(),\n",
    "        learners=learners,\n",
    "        pre_processors=pre_processors,\n",
    "        post_processors=post_processors,\n",
    "        optimal_validation_strategy=filter_val_strategy)\n",
    "    exp.run()\n",
    "    return exp.generate_file_path()\n",
    "\n",
    "def run_exp(seeds, learners, processors, filter_val_strategy):\n",
    "    '''\n",
    "        This is the main driver function that calls the calculate_metrics to give metrices on combinations of various learners, pre and post processing techniques.\n",
    "    '''\n",
    "    skyline_res_folder = {}\n",
    "    for seed in seeds:\n",
    "        input_preprocessors = [x[0] for x in processors]\n",
    "        input_postprocessors = [x[1] for x in processors]\n",
    "        skyline_res_folder[seed] = calculate_metrics(seed, learners, input_preprocessors, input_postprocessors, filter_val_strategy)\n",
    "    return skyline_res_folder"
   ]
  },
  {
   "cell_type": "code",
   "execution_count": 4,
   "metadata": {
    "scrolled": true
   },
   "outputs": [
    {
     "name": "stdout",
     "output_type": "stream",
     "text": [
      "complete_case removed 0 instances from training data\n",
      "Fitting 5 folds for each of 12 candidates, totalling 60 fits\n"
     ]
    },
    {
     "name": "stderr",
     "output_type": "stream",
     "text": [
      "[Parallel(n_jobs=-1)]: Using backend LokyBackend with 4 concurrent workers.\n",
      "[Parallel(n_jobs=-1)]: Done  60 out of  60 | elapsed:    1.8s finished\n",
      "[Parallel(n_jobs=-1)]: Using backend LokyBackend with 4 concurrent workers.\n"
     ]
    },
    {
     "name": "stdout",
     "output_type": "stream",
     "text": [
      "complete_case removed 0 instances from validation data\n",
      "Injecting zero columns for features not present set()\n",
      "complete_case removed 0 instances from validation data\n",
      "Injecting zero columns for features not present set()\n",
      "Fitting 5 folds for each of 12 candidates, totalling 60 fits\n"
     ]
    },
    {
     "name": "stderr",
     "output_type": "stream",
     "text": [
      "[Parallel(n_jobs=-1)]: Done  60 out of  60 | elapsed:    0.4s finished\n",
      "[Parallel(n_jobs=-1)]: Using backend LokyBackend with 4 concurrent workers.\n"
     ]
    },
    {
     "name": "stdout",
     "output_type": "stream",
     "text": [
      "complete_case removed 0 instances from validation data\n",
      "Injecting zero columns for features not present set()\n",
      "complete_case removed 0 instances from validation data\n",
      "Injecting zero columns for features not present set()\n",
      "Fitting 5 folds for each of 12 candidates, totalling 60 fits\n"
     ]
    },
    {
     "name": "stderr",
     "output_type": "stream",
     "text": [
      "[Parallel(n_jobs=-1)]: Done  53 out of  60 | elapsed:    0.3s remaining:    0.0s\n",
      "[Parallel(n_jobs=-1)]: Done  60 out of  60 | elapsed:    0.3s finished\n"
     ]
    },
    {
     "name": "stdout",
     "output_type": "stream",
     "text": [
      "complete_case removed 0 instances from validation data\n",
      "Injecting zero columns for features not present set()\n",
      "complete_case removed 0 instances from validation data\n",
      "Injecting zero columns for features not present set()\n",
      "Fitting 5 folds for each of 12 candidates, totalling 60 fits\n"
     ]
    },
    {
     "name": "stderr",
     "output_type": "stream",
     "text": [
      "[Parallel(n_jobs=-1)]: Using backend LokyBackend with 4 concurrent workers.\n",
      "[Parallel(n_jobs=-1)]: Done  60 out of  60 | elapsed:    0.3s finished\n",
      "[Parallel(n_jobs=-1)]: Using backend LokyBackend with 4 concurrent workers.\n"
     ]
    },
    {
     "name": "stdout",
     "output_type": "stream",
     "text": [
      "complete_case removed 0 instances from validation data\n",
      "Injecting zero columns for features not present set()\n",
      "complete_case removed 0 instances from validation data\n",
      "Injecting zero columns for features not present set()\n",
      "Fitting 5 folds for each of 12 candidates, totalling 60 fits\n"
     ]
    },
    {
     "name": "stderr",
     "output_type": "stream",
     "text": [
      "[Parallel(n_jobs=-1)]: Done  53 out of  60 | elapsed:    0.3s remaining:    0.0s\n",
      "[Parallel(n_jobs=-1)]: Done  60 out of  60 | elapsed:    0.3s finished\n",
      "[Parallel(n_jobs=-1)]: Using backend LokyBackend with 4 concurrent workers.\n"
     ]
    },
    {
     "name": "stdout",
     "output_type": "stream",
     "text": [
      "complete_case removed 0 instances from validation data\n",
      "Injecting zero columns for features not present set()\n",
      "complete_case removed 0 instances from validation data\n",
      "Injecting zero columns for features not present set()\n",
      "Fitting 5 folds for each of 12 candidates, totalling 60 fits\n"
     ]
    },
    {
     "name": "stderr",
     "output_type": "stream",
     "text": [
      "[Parallel(n_jobs=-1)]: Done  60 out of  60 | elapsed:    0.3s finished\n"
     ]
    },
    {
     "name": "stdout",
     "output_type": "stream",
     "text": [
      "complete_case removed 0 instances from validation data\n",
      "Injecting zero columns for features not present set()\n",
      "complete_case removed 0 instances from validation data\n",
      "Injecting zero columns for features not present set()\n",
      "Fitting 5 folds for each of 12 candidates, totalling 60 fits\n"
     ]
    },
    {
     "name": "stderr",
     "output_type": "stream",
     "text": [
      "[Parallel(n_jobs=-1)]: Using backend LokyBackend with 4 concurrent workers.\n",
      "[Parallel(n_jobs=-1)]: Done  60 out of  60 | elapsed:    0.3s finished\n",
      "[Parallel(n_jobs=-1)]: Using backend LokyBackend with 4 concurrent workers.\n"
     ]
    },
    {
     "name": "stdout",
     "output_type": "stream",
     "text": [
      "complete_case removed 0 instances from validation data\n",
      "Injecting zero columns for features not present set()\n",
      "complete_case removed 0 instances from validation data\n",
      "Injecting zero columns for features not present set()\n",
      "Fitting 5 folds for each of 12 candidates, totalling 60 fits\n"
     ]
    },
    {
     "name": "stderr",
     "output_type": "stream",
     "text": [
      "[Parallel(n_jobs=-1)]: Done  53 out of  60 | elapsed:    0.3s remaining:    0.0s\n",
      "[Parallel(n_jobs=-1)]: Done  60 out of  60 | elapsed:    0.3s finished\n",
      "[Parallel(n_jobs=-1)]: Using backend LokyBackend with 4 concurrent workers.\n"
     ]
    },
    {
     "name": "stdout",
     "output_type": "stream",
     "text": [
      "complete_case removed 0 instances from validation data\n",
      "Injecting zero columns for features not present set()\n",
      "complete_case removed 0 instances from validation data\n",
      "Injecting zero columns for features not present set()\n",
      "Fitting 5 folds for each of 12 candidates, totalling 60 fits\n"
     ]
    },
    {
     "name": "stderr",
     "output_type": "stream",
     "text": [
      "[Parallel(n_jobs=-1)]: Done  60 out of  60 | elapsed:    0.3s finished\n"
     ]
    },
    {
     "name": "stdout",
     "output_type": "stream",
     "text": [
      "complete_case removed 0 instances from validation data\n",
      "Injecting zero columns for features not present set()\n",
      "complete_case removed 0 instances from validation data\n",
      "Injecting zero columns for features not present set()\n",
      "complete_case removed 0 instances from training data\n",
      "Fitting 5 folds for each of 12 candidates, totalling 60 fits\n"
     ]
    },
    {
     "name": "stderr",
     "output_type": "stream",
     "text": [
      "[Parallel(n_jobs=-1)]: Using backend LokyBackend with 4 concurrent workers.\n",
      "[Parallel(n_jobs=-1)]: Done  53 out of  60 | elapsed:    0.5s remaining:    0.1s\n",
      "[Parallel(n_jobs=-1)]: Done  60 out of  60 | elapsed:    0.5s finished\n"
     ]
    },
    {
     "name": "stdout",
     "output_type": "stream",
     "text": [
      "complete_case removed 0 instances from validation data\n",
      "Injecting zero columns for features not present set()\n",
      "complete_case removed 0 instances from validation data\n",
      "Injecting zero columns for features not present set()\n",
      "Fitting 5 folds for each of 12 candidates, totalling 60 fits\n"
     ]
    },
    {
     "name": "stderr",
     "output_type": "stream",
     "text": [
      "[Parallel(n_jobs=-1)]: Using backend LokyBackend with 4 concurrent workers.\n",
      "[Parallel(n_jobs=-1)]: Done  53 out of  60 | elapsed:    0.4s remaining:    0.1s\n",
      "[Parallel(n_jobs=-1)]: Done  60 out of  60 | elapsed:    0.5s finished\n"
     ]
    },
    {
     "name": "stdout",
     "output_type": "stream",
     "text": [
      "complete_case removed 0 instances from validation data\n",
      "Injecting zero columns for features not present set()\n",
      "complete_case removed 0 instances from validation data\n",
      "Injecting zero columns for features not present set()\n",
      "Fitting 5 folds for each of 12 candidates, totalling 60 fits\n"
     ]
    },
    {
     "name": "stderr",
     "output_type": "stream",
     "text": [
      "[Parallel(n_jobs=-1)]: Using backend LokyBackend with 4 concurrent workers.\n",
      "[Parallel(n_jobs=-1)]: Done  60 out of  60 | elapsed:    0.5s finished\n"
     ]
    },
    {
     "name": "stdout",
     "output_type": "stream",
     "text": [
      "complete_case removed 0 instances from validation data\n",
      "Injecting zero columns for features not present set()\n",
      "complete_case removed 0 instances from validation data\n",
      "Injecting zero columns for features not present set()\n",
      "Fitting 5 folds for each of 12 candidates, totalling 60 fits\n"
     ]
    },
    {
     "name": "stderr",
     "output_type": "stream",
     "text": [
      "[Parallel(n_jobs=-1)]: Using backend LokyBackend with 4 concurrent workers.\n",
      "[Parallel(n_jobs=-1)]: Done  53 out of  60 | elapsed:    0.4s remaining:    0.1s\n",
      "[Parallel(n_jobs=-1)]: Done  60 out of  60 | elapsed:    0.4s finished\n",
      "[Parallel(n_jobs=-1)]: Using backend LokyBackend with 4 concurrent workers.\n"
     ]
    },
    {
     "name": "stdout",
     "output_type": "stream",
     "text": [
      "complete_case removed 0 instances from validation data\n",
      "Injecting zero columns for features not present set()\n",
      "complete_case removed 0 instances from validation data\n",
      "Injecting zero columns for features not present set()\n",
      "Fitting 5 folds for each of 12 candidates, totalling 60 fits\n"
     ]
    },
    {
     "name": "stderr",
     "output_type": "stream",
     "text": [
      "[Parallel(n_jobs=-1)]: Done  60 out of  60 | elapsed:    0.3s finished\n",
      "[Parallel(n_jobs=-1)]: Using backend LokyBackend with 4 concurrent workers.\n"
     ]
    },
    {
     "name": "stdout",
     "output_type": "stream",
     "text": [
      "complete_case removed 0 instances from validation data\n",
      "Injecting zero columns for features not present set()\n",
      "complete_case removed 0 instances from validation data\n",
      "Injecting zero columns for features not present set()\n",
      "Fitting 5 folds for each of 12 candidates, totalling 60 fits\n"
     ]
    },
    {
     "name": "stderr",
     "output_type": "stream",
     "text": [
      "[Parallel(n_jobs=-1)]: Done  53 out of  60 | elapsed:    0.3s remaining:    0.0s\n",
      "[Parallel(n_jobs=-1)]: Done  60 out of  60 | elapsed:    0.4s finished\n"
     ]
    },
    {
     "name": "stdout",
     "output_type": "stream",
     "text": [
      "complete_case removed 0 instances from validation data\n",
      "Injecting zero columns for features not present set()\n",
      "complete_case removed 0 instances from validation data\n",
      "Injecting zero columns for features not present set()\n",
      "Fitting 5 folds for each of 12 candidates, totalling 60 fits\n"
     ]
    },
    {
     "name": "stderr",
     "output_type": "stream",
     "text": [
      "[Parallel(n_jobs=-1)]: Using backend LokyBackend with 4 concurrent workers.\n",
      "[Parallel(n_jobs=-1)]: Done  53 out of  60 | elapsed:    0.4s remaining:    0.1s\n",
      "[Parallel(n_jobs=-1)]: Done  60 out of  60 | elapsed:    0.4s finished\n",
      "[Parallel(n_jobs=-1)]: Using backend LokyBackend with 4 concurrent workers.\n"
     ]
    },
    {
     "name": "stdout",
     "output_type": "stream",
     "text": [
      "complete_case removed 0 instances from validation data\n",
      "Injecting zero columns for features not present set()\n",
      "complete_case removed 0 instances from validation data\n",
      "Injecting zero columns for features not present set()\n",
      "Fitting 5 folds for each of 12 candidates, totalling 60 fits\n"
     ]
    },
    {
     "name": "stderr",
     "output_type": "stream",
     "text": [
      "[Parallel(n_jobs=-1)]: Done  53 out of  60 | elapsed:    0.3s remaining:    0.0s\n",
      "[Parallel(n_jobs=-1)]: Done  60 out of  60 | elapsed:    0.3s finished\n",
      "[Parallel(n_jobs=-1)]: Using backend LokyBackend with 4 concurrent workers.\n"
     ]
    },
    {
     "name": "stdout",
     "output_type": "stream",
     "text": [
      "complete_case removed 0 instances from validation data\n",
      "Injecting zero columns for features not present set()\n",
      "complete_case removed 0 instances from validation data\n",
      "Injecting zero columns for features not present set()\n",
      "Fitting 5 folds for each of 12 candidates, totalling 60 fits\n"
     ]
    },
    {
     "name": "stderr",
     "output_type": "stream",
     "text": [
      "[Parallel(n_jobs=-1)]: Done  53 out of  60 | elapsed:    0.3s remaining:    0.0s\n",
      "[Parallel(n_jobs=-1)]: Done  60 out of  60 | elapsed:    0.4s finished\n"
     ]
    },
    {
     "name": "stdout",
     "output_type": "stream",
     "text": [
      "complete_case removed 0 instances from validation data\n",
      "Injecting zero columns for features not present set()\n",
      "complete_case removed 0 instances from validation data\n",
      "Injecting zero columns for features not present set()\n",
      "complete_case removed 0 instances from training data\n",
      "Fitting 5 folds for each of 12 candidates, totalling 60 fits\n"
     ]
    },
    {
     "name": "stderr",
     "output_type": "stream",
     "text": [
      "[Parallel(n_jobs=-1)]: Using backend LokyBackend with 4 concurrent workers.\n",
      "[Parallel(n_jobs=-1)]: Done  53 out of  60 | elapsed:    0.3s remaining:    0.0s\n",
      "[Parallel(n_jobs=-1)]: Done  60 out of  60 | elapsed:    0.3s finished\n",
      "[Parallel(n_jobs=-1)]: Using backend LokyBackend with 4 concurrent workers.\n"
     ]
    },
    {
     "name": "stdout",
     "output_type": "stream",
     "text": [
      "complete_case removed 0 instances from validation data\n",
      "Injecting zero columns for features not present set()\n",
      "complete_case removed 0 instances from validation data\n",
      "Injecting zero columns for features not present set()\n",
      "Fitting 5 folds for each of 12 candidates, totalling 60 fits\n"
     ]
    },
    {
     "name": "stderr",
     "output_type": "stream",
     "text": [
      "[Parallel(n_jobs=-1)]: Done  53 out of  60 | elapsed:    0.3s remaining:    0.0s\n",
      "[Parallel(n_jobs=-1)]: Done  60 out of  60 | elapsed:    0.3s finished\n",
      "[Parallel(n_jobs=-1)]: Using backend LokyBackend with 4 concurrent workers.\n"
     ]
    },
    {
     "name": "stdout",
     "output_type": "stream",
     "text": [
      "complete_case removed 0 instances from validation data\n",
      "Injecting zero columns for features not present set()\n",
      "complete_case removed 0 instances from validation data\n",
      "Injecting zero columns for features not present set()\n",
      "Fitting 5 folds for each of 12 candidates, totalling 60 fits\n"
     ]
    },
    {
     "name": "stderr",
     "output_type": "stream",
     "text": [
      "[Parallel(n_jobs=-1)]: Done  60 out of  60 | elapsed:    0.4s finished\n"
     ]
    },
    {
     "name": "stdout",
     "output_type": "stream",
     "text": [
      "complete_case removed 0 instances from validation data\n",
      "Injecting zero columns for features not present set()\n",
      "complete_case removed 0 instances from validation data\n",
      "Injecting zero columns for features not present set()\n",
      "Fitting 5 folds for each of 12 candidates, totalling 60 fits\n"
     ]
    },
    {
     "name": "stderr",
     "output_type": "stream",
     "text": [
      "[Parallel(n_jobs=-1)]: Using backend LokyBackend with 4 concurrent workers.\n",
      "[Parallel(n_jobs=-1)]: Done  53 out of  60 | elapsed:    0.3s remaining:    0.0s\n",
      "[Parallel(n_jobs=-1)]: Done  60 out of  60 | elapsed:    0.3s finished\n",
      "[Parallel(n_jobs=-1)]: Using backend LokyBackend with 4 concurrent workers.\n"
     ]
    },
    {
     "name": "stdout",
     "output_type": "stream",
     "text": [
      "complete_case removed 0 instances from validation data\n",
      "Injecting zero columns for features not present set()\n",
      "complete_case removed 0 instances from validation data\n",
      "Injecting zero columns for features not present set()\n",
      "Fitting 5 folds for each of 12 candidates, totalling 60 fits\n"
     ]
    },
    {
     "name": "stderr",
     "output_type": "stream",
     "text": [
      "[Parallel(n_jobs=-1)]: Done  53 out of  60 | elapsed:    0.3s remaining:    0.0s\n",
      "[Parallel(n_jobs=-1)]: Done  60 out of  60 | elapsed:    0.3s finished\n",
      "[Parallel(n_jobs=-1)]: Using backend LokyBackend with 4 concurrent workers.\n"
     ]
    },
    {
     "name": "stdout",
     "output_type": "stream",
     "text": [
      "complete_case removed 0 instances from validation data\n",
      "Injecting zero columns for features not present set()\n",
      "complete_case removed 0 instances from validation data\n",
      "Injecting zero columns for features not present set()\n",
      "Fitting 5 folds for each of 12 candidates, totalling 60 fits\n"
     ]
    },
    {
     "name": "stderr",
     "output_type": "stream",
     "text": [
      "[Parallel(n_jobs=-1)]: Done  53 out of  60 | elapsed:    0.3s remaining:    0.0s\n",
      "[Parallel(n_jobs=-1)]: Done  60 out of  60 | elapsed:    0.3s finished\n"
     ]
    },
    {
     "name": "stdout",
     "output_type": "stream",
     "text": [
      "complete_case removed 0 instances from validation data\n",
      "Injecting zero columns for features not present set()\n",
      "complete_case removed 0 instances from validation data\n",
      "Injecting zero columns for features not present set()\n",
      "Fitting 5 folds for each of 12 candidates, totalling 60 fits\n"
     ]
    },
    {
     "name": "stderr",
     "output_type": "stream",
     "text": [
      "[Parallel(n_jobs=-1)]: Using backend LokyBackend with 4 concurrent workers.\n",
      "[Parallel(n_jobs=-1)]: Done  60 out of  60 | elapsed:    0.4s finished\n",
      "[Parallel(n_jobs=-1)]: Using backend LokyBackend with 4 concurrent workers.\n"
     ]
    },
    {
     "name": "stdout",
     "output_type": "stream",
     "text": [
      "complete_case removed 0 instances from validation data\n",
      "Injecting zero columns for features not present set()\n",
      "complete_case removed 0 instances from validation data\n",
      "Injecting zero columns for features not present set()\n",
      "Fitting 5 folds for each of 12 candidates, totalling 60 fits\n"
     ]
    },
    {
     "name": "stderr",
     "output_type": "stream",
     "text": [
      "[Parallel(n_jobs=-1)]: Done  60 out of  60 | elapsed:    0.3s finished\n",
      "[Parallel(n_jobs=-1)]: Using backend LokyBackend with 4 concurrent workers.\n"
     ]
    },
    {
     "name": "stdout",
     "output_type": "stream",
     "text": [
      "complete_case removed 0 instances from validation data\n",
      "Injecting zero columns for features not present set()\n",
      "complete_case removed 0 instances from validation data\n",
      "Injecting zero columns for features not present set()\n",
      "Fitting 5 folds for each of 12 candidates, totalling 60 fits\n"
     ]
    },
    {
     "name": "stderr",
     "output_type": "stream",
     "text": [
      "[Parallel(n_jobs=-1)]: Done  60 out of  60 | elapsed:    0.3s finished\n"
     ]
    },
    {
     "name": "stdout",
     "output_type": "stream",
     "text": [
      "complete_case removed 0 instances from validation data\n",
      "Injecting zero columns for features not present set()\n",
      "complete_case removed 0 instances from validation data\n",
      "Injecting zero columns for features not present set()\n",
      "{48879: 'logs/2020-08-31_10-59-54-994_germancreditsex/', 51966: 'logs/2020-08-31_11-00-05-290_germancreditsex/', 57005: 'logs/2020-08-31_11-00-15-865_germancreditsex/'}\n"
     ]
    }
   ],
   "source": [
    "# running experiments using above parameters\n",
    "filter_order_results = run_exp(seeds, learners, processors, filter_res_on_val_by_order)\n",
    "print (filter_order_results)"
   ]
  },
  {
   "cell_type": "code",
   "execution_count": 5,
   "metadata": {
    "scrolled": true
   },
   "outputs": [
    {
     "name": "stdout",
     "output_type": "stream",
     "text": [
      "complete_case removed 0 instances from training data\n",
      "Fitting 5 folds for each of 12 candidates, totalling 60 fits\n"
     ]
    },
    {
     "name": "stderr",
     "output_type": "stream",
     "text": [
      "[Parallel(n_jobs=-1)]: Using backend LokyBackend with 4 concurrent workers.\n",
      "[Parallel(n_jobs=-1)]: Done  60 out of  60 | elapsed:    0.3s finished\n",
      "[Parallel(n_jobs=-1)]: Using backend LokyBackend with 4 concurrent workers.\n"
     ]
    },
    {
     "name": "stdout",
     "output_type": "stream",
     "text": [
      "complete_case removed 0 instances from validation data\n",
      "Injecting zero columns for features not present set()\n",
      "complete_case removed 0 instances from validation data\n",
      "Injecting zero columns for features not present set()\n",
      "Fitting 5 folds for each of 12 candidates, totalling 60 fits\n"
     ]
    },
    {
     "name": "stderr",
     "output_type": "stream",
     "text": [
      "[Parallel(n_jobs=-1)]: Done  53 out of  60 | elapsed:    0.3s remaining:    0.0s\n",
      "[Parallel(n_jobs=-1)]: Done  60 out of  60 | elapsed:    0.3s finished\n",
      "[Parallel(n_jobs=-1)]: Using backend LokyBackend with 4 concurrent workers.\n"
     ]
    },
    {
     "name": "stdout",
     "output_type": "stream",
     "text": [
      "complete_case removed 0 instances from validation data\n",
      "Injecting zero columns for features not present set()\n",
      "complete_case removed 0 instances from validation data\n",
      "Injecting zero columns for features not present set()\n",
      "Fitting 5 folds for each of 12 candidates, totalling 60 fits\n"
     ]
    },
    {
     "name": "stderr",
     "output_type": "stream",
     "text": [
      "[Parallel(n_jobs=-1)]: Done  60 out of  60 | elapsed:    0.4s finished\n"
     ]
    },
    {
     "name": "stdout",
     "output_type": "stream",
     "text": [
      "complete_case removed 0 instances from validation data\n",
      "Injecting zero columns for features not present set()\n",
      "complete_case removed 0 instances from validation data\n",
      "Injecting zero columns for features not present set()\n",
      "Fitting 5 folds for each of 12 candidates, totalling 60 fits\n"
     ]
    },
    {
     "name": "stderr",
     "output_type": "stream",
     "text": [
      "[Parallel(n_jobs=-1)]: Using backend LokyBackend with 4 concurrent workers.\n",
      "[Parallel(n_jobs=-1)]: Done  53 out of  60 | elapsed:    0.3s remaining:    0.0s\n",
      "[Parallel(n_jobs=-1)]: Done  60 out of  60 | elapsed:    0.3s finished\n",
      "[Parallel(n_jobs=-1)]: Using backend LokyBackend with 4 concurrent workers.\n"
     ]
    },
    {
     "name": "stdout",
     "output_type": "stream",
     "text": [
      "complete_case removed 0 instances from validation data\n",
      "Injecting zero columns for features not present set()\n",
      "complete_case removed 0 instances from validation data\n",
      "Injecting zero columns for features not present set()\n",
      "Fitting 5 folds for each of 12 candidates, totalling 60 fits\n"
     ]
    },
    {
     "name": "stderr",
     "output_type": "stream",
     "text": [
      "[Parallel(n_jobs=-1)]: Done  60 out of  60 | elapsed:    0.3s finished\n",
      "[Parallel(n_jobs=-1)]: Using backend LokyBackend with 4 concurrent workers.\n"
     ]
    },
    {
     "name": "stdout",
     "output_type": "stream",
     "text": [
      "complete_case removed 0 instances from validation data\n",
      "Injecting zero columns for features not present set()\n",
      "complete_case removed 0 instances from validation data\n",
      "Injecting zero columns for features not present set()\n",
      "Fitting 5 folds for each of 12 candidates, totalling 60 fits\n"
     ]
    },
    {
     "name": "stderr",
     "output_type": "stream",
     "text": [
      "[Parallel(n_jobs=-1)]: Done  60 out of  60 | elapsed:    0.3s finished\n"
     ]
    },
    {
     "name": "stdout",
     "output_type": "stream",
     "text": [
      "complete_case removed 0 instances from validation data\n",
      "Injecting zero columns for features not present set()\n",
      "complete_case removed 0 instances from validation data\n",
      "Injecting zero columns for features not present set()\n",
      "Fitting 5 folds for each of 12 candidates, totalling 60 fits\n"
     ]
    },
    {
     "name": "stderr",
     "output_type": "stream",
     "text": [
      "[Parallel(n_jobs=-1)]: Using backend LokyBackend with 4 concurrent workers.\n",
      "[Parallel(n_jobs=-1)]: Done  60 out of  60 | elapsed:    0.5s finished\n",
      "[Parallel(n_jobs=-1)]: Using backend LokyBackend with 4 concurrent workers.\n"
     ]
    },
    {
     "name": "stdout",
     "output_type": "stream",
     "text": [
      "complete_case removed 0 instances from validation data\n",
      "Injecting zero columns for features not present set()\n",
      "complete_case removed 0 instances from validation data\n",
      "Injecting zero columns for features not present set()\n",
      "Fitting 5 folds for each of 12 candidates, totalling 60 fits\n"
     ]
    },
    {
     "name": "stderr",
     "output_type": "stream",
     "text": [
      "[Parallel(n_jobs=-1)]: Done  53 out of  60 | elapsed:    0.3s remaining:    0.0s\n",
      "[Parallel(n_jobs=-1)]: Done  60 out of  60 | elapsed:    0.3s finished\n",
      "[Parallel(n_jobs=-1)]: Using backend LokyBackend with 4 concurrent workers.\n"
     ]
    },
    {
     "name": "stdout",
     "output_type": "stream",
     "text": [
      "complete_case removed 0 instances from validation data\n",
      "Injecting zero columns for features not present set()\n",
      "complete_case removed 0 instances from validation data\n",
      "Injecting zero columns for features not present set()\n",
      "Fitting 5 folds for each of 12 candidates, totalling 60 fits\n"
     ]
    },
    {
     "name": "stderr",
     "output_type": "stream",
     "text": [
      "[Parallel(n_jobs=-1)]: Done  60 out of  60 | elapsed:    0.3s finished\n"
     ]
    },
    {
     "name": "stdout",
     "output_type": "stream",
     "text": [
      "complete_case removed 0 instances from validation data\n",
      "Injecting zero columns for features not present set()\n",
      "complete_case removed 0 instances from validation data\n",
      "Injecting zero columns for features not present set()\n",
      "complete_case removed 0 instances from training data\n",
      "Fitting 5 folds for each of 12 candidates, totalling 60 fits\n"
     ]
    },
    {
     "name": "stderr",
     "output_type": "stream",
     "text": [
      "[Parallel(n_jobs=-1)]: Using backend LokyBackend with 4 concurrent workers.\n",
      "[Parallel(n_jobs=-1)]: Done  60 out of  60 | elapsed:    0.5s finished\n",
      "[Parallel(n_jobs=-1)]: Using backend LokyBackend with 4 concurrent workers.\n"
     ]
    },
    {
     "name": "stdout",
     "output_type": "stream",
     "text": [
      "complete_case removed 0 instances from validation data\n",
      "Injecting zero columns for features not present set()\n",
      "complete_case removed 0 instances from validation data\n",
      "Injecting zero columns for features not present set()\n",
      "Fitting 5 folds for each of 12 candidates, totalling 60 fits\n"
     ]
    },
    {
     "name": "stderr",
     "output_type": "stream",
     "text": [
      "[Parallel(n_jobs=-1)]: Done  60 out of  60 | elapsed:    0.3s finished\n",
      "[Parallel(n_jobs=-1)]: Using backend LokyBackend with 4 concurrent workers.\n"
     ]
    },
    {
     "name": "stdout",
     "output_type": "stream",
     "text": [
      "complete_case removed 0 instances from validation data\n",
      "Injecting zero columns for features not present set()\n",
      "complete_case removed 0 instances from validation data\n",
      "Injecting zero columns for features not present set()\n",
      "Fitting 5 folds for each of 12 candidates, totalling 60 fits\n"
     ]
    },
    {
     "name": "stderr",
     "output_type": "stream",
     "text": [
      "[Parallel(n_jobs=-1)]: Done  60 out of  60 | elapsed:    0.3s finished\n"
     ]
    },
    {
     "name": "stdout",
     "output_type": "stream",
     "text": [
      "complete_case removed 0 instances from validation data\n",
      "Injecting zero columns for features not present set()\n",
      "complete_case removed 0 instances from validation data\n",
      "Injecting zero columns for features not present set()\n",
      "Fitting 5 folds for each of 12 candidates, totalling 60 fits\n"
     ]
    },
    {
     "name": "stderr",
     "output_type": "stream",
     "text": [
      "[Parallel(n_jobs=-1)]: Using backend LokyBackend with 4 concurrent workers.\n",
      "[Parallel(n_jobs=-1)]: Done  53 out of  60 | elapsed:    0.3s remaining:    0.0s\n",
      "[Parallel(n_jobs=-1)]: Done  60 out of  60 | elapsed:    0.3s finished\n",
      "[Parallel(n_jobs=-1)]: Using backend LokyBackend with 4 concurrent workers.\n"
     ]
    },
    {
     "name": "stdout",
     "output_type": "stream",
     "text": [
      "complete_case removed 0 instances from validation data\n",
      "Injecting zero columns for features not present set()\n",
      "complete_case removed 0 instances from validation data\n",
      "Injecting zero columns for features not present set()\n",
      "Fitting 5 folds for each of 12 candidates, totalling 60 fits\n"
     ]
    },
    {
     "name": "stderr",
     "output_type": "stream",
     "text": [
      "[Parallel(n_jobs=-1)]: Done  60 out of  60 | elapsed:    0.3s finished\n",
      "[Parallel(n_jobs=-1)]: Using backend LokyBackend with 4 concurrent workers.\n"
     ]
    },
    {
     "name": "stdout",
     "output_type": "stream",
     "text": [
      "complete_case removed 0 instances from validation data\n",
      "Injecting zero columns for features not present set()\n",
      "complete_case removed 0 instances from validation data\n",
      "Injecting zero columns for features not present set()\n",
      "Fitting 5 folds for each of 12 candidates, totalling 60 fits\n"
     ]
    },
    {
     "name": "stderr",
     "output_type": "stream",
     "text": [
      "[Parallel(n_jobs=-1)]: Done  60 out of  60 | elapsed:    0.3s finished\n"
     ]
    },
    {
     "name": "stdout",
     "output_type": "stream",
     "text": [
      "complete_case removed 0 instances from validation data\n",
      "Injecting zero columns for features not present set()\n",
      "complete_case removed 0 instances from validation data\n",
      "Injecting zero columns for features not present set()\n",
      "Fitting 5 folds for each of 12 candidates, totalling 60 fits\n"
     ]
    },
    {
     "name": "stderr",
     "output_type": "stream",
     "text": [
      "[Parallel(n_jobs=-1)]: Using backend LokyBackend with 4 concurrent workers.\n",
      "[Parallel(n_jobs=-1)]: Done  53 out of  60 | elapsed:    0.3s remaining:    0.0s\n",
      "[Parallel(n_jobs=-1)]: Done  60 out of  60 | elapsed:    0.3s finished\n",
      "[Parallel(n_jobs=-1)]: Using backend LokyBackend with 4 concurrent workers.\n"
     ]
    },
    {
     "name": "stdout",
     "output_type": "stream",
     "text": [
      "complete_case removed 0 instances from validation data\n",
      "Injecting zero columns for features not present set()\n",
      "complete_case removed 0 instances from validation data\n",
      "Injecting zero columns for features not present set()\n",
      "Fitting 5 folds for each of 12 candidates, totalling 60 fits\n"
     ]
    },
    {
     "name": "stderr",
     "output_type": "stream",
     "text": [
      "[Parallel(n_jobs=-1)]: Done  53 out of  60 | elapsed:    0.3s remaining:    0.0s\n",
      "[Parallel(n_jobs=-1)]: Done  60 out of  60 | elapsed:    0.3s finished\n",
      "[Parallel(n_jobs=-1)]: Using backend LokyBackend with 4 concurrent workers.\n"
     ]
    },
    {
     "name": "stdout",
     "output_type": "stream",
     "text": [
      "complete_case removed 0 instances from validation data\n",
      "Injecting zero columns for features not present set()\n",
      "complete_case removed 0 instances from validation data\n",
      "Injecting zero columns for features not present set()\n",
      "Fitting 5 folds for each of 12 candidates, totalling 60 fits\n"
     ]
    },
    {
     "name": "stderr",
     "output_type": "stream",
     "text": [
      "[Parallel(n_jobs=-1)]: Done  53 out of  60 | elapsed:    0.3s remaining:    0.0s\n",
      "[Parallel(n_jobs=-1)]: Done  60 out of  60 | elapsed:    0.4s finished\n"
     ]
    },
    {
     "name": "stdout",
     "output_type": "stream",
     "text": [
      "complete_case removed 0 instances from validation data\n",
      "Injecting zero columns for features not present set()\n",
      "complete_case removed 0 instances from validation data\n",
      "Injecting zero columns for features not present set()\n",
      "complete_case removed 0 instances from training data\n",
      "Fitting 5 folds for each of 12 candidates, totalling 60 fits\n"
     ]
    },
    {
     "name": "stderr",
     "output_type": "stream",
     "text": [
      "[Parallel(n_jobs=-1)]: Using backend LokyBackend with 4 concurrent workers.\n",
      "[Parallel(n_jobs=-1)]: Done  53 out of  60 | elapsed:    0.3s remaining:    0.0s\n",
      "[Parallel(n_jobs=-1)]: Done  60 out of  60 | elapsed:    0.3s finished\n",
      "[Parallel(n_jobs=-1)]: Using backend LokyBackend with 4 concurrent workers.\n"
     ]
    },
    {
     "name": "stdout",
     "output_type": "stream",
     "text": [
      "complete_case removed 0 instances from validation data\n",
      "Injecting zero columns for features not present set()\n",
      "complete_case removed 0 instances from validation data\n",
      "Injecting zero columns for features not present set()\n",
      "Fitting 5 folds for each of 12 candidates, totalling 60 fits\n"
     ]
    },
    {
     "name": "stderr",
     "output_type": "stream",
     "text": [
      "[Parallel(n_jobs=-1)]: Done  53 out of  60 | elapsed:    0.3s remaining:    0.0s\n",
      "[Parallel(n_jobs=-1)]: Done  60 out of  60 | elapsed:    0.3s finished\n",
      "[Parallel(n_jobs=-1)]: Using backend LokyBackend with 4 concurrent workers.\n"
     ]
    },
    {
     "name": "stdout",
     "output_type": "stream",
     "text": [
      "complete_case removed 0 instances from validation data\n",
      "Injecting zero columns for features not present set()\n",
      "complete_case removed 0 instances from validation data\n",
      "Injecting zero columns for features not present set()\n",
      "Fitting 5 folds for each of 12 candidates, totalling 60 fits\n"
     ]
    },
    {
     "name": "stderr",
     "output_type": "stream",
     "text": [
      "[Parallel(n_jobs=-1)]: Done  53 out of  60 | elapsed:    0.3s remaining:    0.0s\n",
      "[Parallel(n_jobs=-1)]: Done  60 out of  60 | elapsed:    0.3s finished\n"
     ]
    },
    {
     "name": "stdout",
     "output_type": "stream",
     "text": [
      "complete_case removed 0 instances from validation data\n",
      "Injecting zero columns for features not present set()\n",
      "complete_case removed 0 instances from validation data\n",
      "Injecting zero columns for features not present set()\n",
      "Fitting 5 folds for each of 12 candidates, totalling 60 fits\n"
     ]
    },
    {
     "name": "stderr",
     "output_type": "stream",
     "text": [
      "[Parallel(n_jobs=-1)]: Using backend LokyBackend with 4 concurrent workers.\n",
      "[Parallel(n_jobs=-1)]: Done  53 out of  60 | elapsed:    0.3s remaining:    0.0s\n",
      "[Parallel(n_jobs=-1)]: Done  60 out of  60 | elapsed:    0.3s finished\n",
      "[Parallel(n_jobs=-1)]: Using backend LokyBackend with 4 concurrent workers.\n"
     ]
    },
    {
     "name": "stdout",
     "output_type": "stream",
     "text": [
      "complete_case removed 0 instances from validation data\n",
      "Injecting zero columns for features not present set()\n",
      "complete_case removed 0 instances from validation data\n",
      "Injecting zero columns for features not present set()\n",
      "Fitting 5 folds for each of 12 candidates, totalling 60 fits\n"
     ]
    },
    {
     "name": "stderr",
     "output_type": "stream",
     "text": [
      "[Parallel(n_jobs=-1)]: Done  60 out of  60 | elapsed:    0.3s finished\n",
      "[Parallel(n_jobs=-1)]: Using backend LokyBackend with 4 concurrent workers.\n"
     ]
    },
    {
     "name": "stdout",
     "output_type": "stream",
     "text": [
      "complete_case removed 0 instances from validation data\n",
      "Injecting zero columns for features not present set()\n",
      "complete_case removed 0 instances from validation data\n",
      "Injecting zero columns for features not present set()\n",
      "Fitting 5 folds for each of 12 candidates, totalling 60 fits\n"
     ]
    },
    {
     "name": "stderr",
     "output_type": "stream",
     "text": [
      "[Parallel(n_jobs=-1)]: Done  53 out of  60 | elapsed:    0.3s remaining:    0.0s\n",
      "[Parallel(n_jobs=-1)]: Done  60 out of  60 | elapsed:    0.4s finished\n"
     ]
    },
    {
     "name": "stdout",
     "output_type": "stream",
     "text": [
      "complete_case removed 0 instances from validation data\n",
      "Injecting zero columns for features not present set()\n",
      "complete_case removed 0 instances from validation data\n",
      "Injecting zero columns for features not present set()\n",
      "Fitting 5 folds for each of 12 candidates, totalling 60 fits\n"
     ]
    },
    {
     "name": "stderr",
     "output_type": "stream",
     "text": [
      "[Parallel(n_jobs=-1)]: Using backend LokyBackend with 4 concurrent workers.\n",
      "[Parallel(n_jobs=-1)]: Done  53 out of  60 | elapsed:    0.4s remaining:    0.0s\n",
      "[Parallel(n_jobs=-1)]: Done  60 out of  60 | elapsed:    0.4s finished\n",
      "[Parallel(n_jobs=-1)]: Using backend LokyBackend with 4 concurrent workers.\n"
     ]
    },
    {
     "name": "stdout",
     "output_type": "stream",
     "text": [
      "complete_case removed 0 instances from validation data\n",
      "Injecting zero columns for features not present set()\n",
      "complete_case removed 0 instances from validation data\n",
      "Injecting zero columns for features not present set()\n",
      "Fitting 5 folds for each of 12 candidates, totalling 60 fits\n"
     ]
    },
    {
     "name": "stderr",
     "output_type": "stream",
     "text": [
      "[Parallel(n_jobs=-1)]: Done  53 out of  60 | elapsed:    0.3s remaining:    0.0s\n",
      "[Parallel(n_jobs=-1)]: Done  60 out of  60 | elapsed:    0.3s finished\n",
      "[Parallel(n_jobs=-1)]: Using backend LokyBackend with 4 concurrent workers.\n"
     ]
    },
    {
     "name": "stdout",
     "output_type": "stream",
     "text": [
      "complete_case removed 0 instances from validation data\n",
      "Injecting zero columns for features not present set()\n",
      "complete_case removed 0 instances from validation data\n",
      "Injecting zero columns for features not present set()\n",
      "Fitting 5 folds for each of 12 candidates, totalling 60 fits\n"
     ]
    },
    {
     "name": "stderr",
     "output_type": "stream",
     "text": [
      "[Parallel(n_jobs=-1)]: Done  53 out of  60 | elapsed:    0.3s remaining:    0.0s\n",
      "[Parallel(n_jobs=-1)]: Done  60 out of  60 | elapsed:    0.4s finished\n"
     ]
    },
    {
     "name": "stdout",
     "output_type": "stream",
     "text": [
      "complete_case removed 0 instances from validation data\n",
      "Injecting zero columns for features not present set()\n",
      "complete_case removed 0 instances from validation data\n",
      "Injecting zero columns for features not present set()\n",
      "{48879: 'logs/2020-08-31_11-00-24-840_germancreditsex/', 51966: 'logs/2020-08-31_11-00-33-280_germancreditsex/', 57005: 'logs/2020-08-31_11-00-41-993_germancreditsex/'}\n"
     ]
    }
   ],
   "source": [
    "filter_formula_results = run_exp(seeds, learners, processors, filter_res_on_val_by_weight_sum)\n",
    "print (filter_formula_results)"
   ]
  },
  {
   "cell_type": "markdown",
   "metadata": {},
   "source": [
    "## Visualize the result of skyline selection for a single trial"
   ]
  },
  {
   "cell_type": "code",
   "execution_count": 6,
   "metadata": {},
   "outputs": [],
   "source": [
    "def get_skyline_candidates(seed_path_map, focus_seed):\n",
    "    '''\n",
    "        Prepare the skyline candidates data for visualization\n",
    "    '''\n",
    "    setting_labels = {'reject_option': 'RO', 'diremover-1.0': 'DI1.0',\n",
    "                      'no_pre_processing': 'NoPre', 'no_post_processing': 'NoPost',\n",
    "                      'DecisionTree': 'DT', 'LogisticRegression': 'LR'}\n",
    "    skyline_df = pd.read_csv(seed_path_map[focus_seed] + \"skyline_options.csv\")\n",
    "    # only keep the name of preprocessor (idx 1), learner (idx 5), and postprocessor (idx 6) in the settings for visualization purpose\n",
    "    skyline_df['setting'] = skyline_df['setting'].apply(lambda x: \"__\".join([x.split('__')[i] for i in range(len(x.split('__'))) if i in [1, 5, 6]]))\n",
    "    # remove the seed name in the setting for visualization purpose\n",
    "    skyline_df['setting'] = skyline_df['setting'].apply(lambda x: x.replace('-' + str(focus_seed), ''))\n",
    "    # rename (shorten) the settings' names for visualization purpose\n",
    "    skyline_df['setting'] = skyline_df['setting'].apply(lambda x: '_'.join([setting_labels[stepi] for stepi in x.split('__')]))\n",
    "\n",
    "\n",
    "    # show the candidates using only one fairness intervention method\n",
    "    return skyline_df[skyline_df['setting'].apply(lambda x: 'NoP' in x)]\n"
   ]
  },
  {
   "cell_type": "code",
   "execution_count": 7,
   "metadata": {},
   "outputs": [
    {
     "data": {
      "text/html": [
       "<div>\n",
       "<style scoped>\n",
       "    .dataframe tbody tr th:only-of-type {\n",
       "        vertical-align: middle;\n",
       "    }\n",
       "\n",
       "    .dataframe tbody tr th {\n",
       "        vertical-align: top;\n",
       "    }\n",
       "\n",
       "    .dataframe thead th {\n",
       "        text-align: right;\n",
       "    }\n",
       "</style>\n",
       "<table border=\"1\" class=\"dataframe\">\n",
       "  <thead>\n",
       "    <tr style=\"text-align: right;\">\n",
       "      <th></th>\n",
       "      <th>setting</th>\n",
       "      <th>data</th>\n",
       "      <th>accuracy</th>\n",
       "      <th>selection_rate</th>\n",
       "      <th>false_discovery_rate</th>\n",
       "      <th>skyline</th>\n",
       "      <th>optimal</th>\n",
       "    </tr>\n",
       "  </thead>\n",
       "  <tbody>\n",
       "    <tr>\n",
       "      <th>0</th>\n",
       "      <td>NoPre_LR_RO</td>\n",
       "      <td>val</td>\n",
       "      <td>0.710000</td>\n",
       "      <td>0.890000</td>\n",
       "      <td>-0.280899</td>\n",
       "      <td>79.619101</td>\n",
       "      <td>1</td>\n",
       "    </tr>\n",
       "    <tr>\n",
       "      <th>1</th>\n",
       "      <td>NoPre_LR_RO</td>\n",
       "      <td>test</td>\n",
       "      <td>0.771144</td>\n",
       "      <td>0.800995</td>\n",
       "      <td>-0.173913</td>\n",
       "      <td>84.950465</td>\n",
       "      <td>1</td>\n",
       "    </tr>\n",
       "    <tr>\n",
       "      <th>2</th>\n",
       "      <td>NoPre_LR_NoPost</td>\n",
       "      <td>val</td>\n",
       "      <td>0.710000</td>\n",
       "      <td>0.890000</td>\n",
       "      <td>-0.280899</td>\n",
       "      <td>79.619101</td>\n",
       "      <td>1</td>\n",
       "    </tr>\n",
       "    <tr>\n",
       "      <th>3</th>\n",
       "      <td>NoPre_LR_NoPost</td>\n",
       "      <td>test</td>\n",
       "      <td>0.756219</td>\n",
       "      <td>0.925373</td>\n",
       "      <td>-0.225806</td>\n",
       "      <td>84.649815</td>\n",
       "      <td>1</td>\n",
       "    </tr>\n",
       "    <tr>\n",
       "      <th>6</th>\n",
       "      <td>DI1.0_LR_NoPost</td>\n",
       "      <td>val</td>\n",
       "      <td>0.700000</td>\n",
       "      <td>0.880000</td>\n",
       "      <td>-0.284091</td>\n",
       "      <td>78.515909</td>\n",
       "      <td>0</td>\n",
       "    </tr>\n",
       "  </tbody>\n",
       "</table>\n",
       "</div>"
      ],
      "text/plain": [
       "           setting  data  accuracy  selection_rate  false_discovery_rate  \\\n",
       "0      NoPre_LR_RO   val  0.710000        0.890000             -0.280899   \n",
       "1      NoPre_LR_RO  test  0.771144        0.800995             -0.173913   \n",
       "2  NoPre_LR_NoPost   val  0.710000        0.890000             -0.280899   \n",
       "3  NoPre_LR_NoPost  test  0.756219        0.925373             -0.225806   \n",
       "6  DI1.0_LR_NoPost   val  0.700000        0.880000             -0.284091   \n",
       "\n",
       "     skyline  optimal  \n",
       "0  79.619101        1  \n",
       "1  84.950465        1  \n",
       "2  79.619101        1  \n",
       "3  84.649815        1  \n",
       "6  78.515909        0  "
      ]
     },
     "execution_count": 7,
     "metadata": {},
     "output_type": "execute_result"
    }
   ],
   "source": [
    "# read the skyline options for current seed\n",
    "focus_seed = 0xdead\n",
    "filter_order_options = get_skyline_candidates(filter_order_results, focus_seed)\n",
    "filter_order_options.head(5)"
   ]
  },
  {
   "cell_type": "code",
   "execution_count": 8,
   "metadata": {},
   "outputs": [
    {
     "data": {
      "text/html": [
       "<div>\n",
       "<style scoped>\n",
       "    .dataframe tbody tr th:only-of-type {\n",
       "        vertical-align: middle;\n",
       "    }\n",
       "\n",
       "    .dataframe tbody tr th {\n",
       "        vertical-align: top;\n",
       "    }\n",
       "\n",
       "    .dataframe thead th {\n",
       "        text-align: right;\n",
       "    }\n",
       "</style>\n",
       "<table border=\"1\" class=\"dataframe\">\n",
       "  <thead>\n",
       "    <tr style=\"text-align: right;\">\n",
       "      <th></th>\n",
       "      <th>setting</th>\n",
       "      <th>data</th>\n",
       "      <th>accuracy</th>\n",
       "      <th>selection_rate</th>\n",
       "      <th>false_discovery_rate</th>\n",
       "      <th>skyline</th>\n",
       "      <th>optimal</th>\n",
       "    </tr>\n",
       "  </thead>\n",
       "  <tbody>\n",
       "    <tr>\n",
       "      <th>0</th>\n",
       "      <td>NoPre_LR_RO</td>\n",
       "      <td>val</td>\n",
       "      <td>0.710000</td>\n",
       "      <td>0.890000</td>\n",
       "      <td>-0.280899</td>\n",
       "      <td>0.565820</td>\n",
       "      <td>1</td>\n",
       "    </tr>\n",
       "    <tr>\n",
       "      <th>1</th>\n",
       "      <td>NoPre_LR_RO</td>\n",
       "      <td>test</td>\n",
       "      <td>0.771144</td>\n",
       "      <td>0.800995</td>\n",
       "      <td>-0.173913</td>\n",
       "      <td>0.591088</td>\n",
       "      <td>1</td>\n",
       "    </tr>\n",
       "    <tr>\n",
       "      <th>2</th>\n",
       "      <td>NoPre_LR_NoPost</td>\n",
       "      <td>val</td>\n",
       "      <td>0.710000</td>\n",
       "      <td>0.890000</td>\n",
       "      <td>-0.280899</td>\n",
       "      <td>0.565820</td>\n",
       "      <td>1</td>\n",
       "    </tr>\n",
       "    <tr>\n",
       "      <th>3</th>\n",
       "      <td>NoPre_LR_NoPost</td>\n",
       "      <td>test</td>\n",
       "      <td>0.756219</td>\n",
       "      <td>0.925373</td>\n",
       "      <td>-0.225806</td>\n",
       "      <td>0.610560</td>\n",
       "      <td>1</td>\n",
       "    </tr>\n",
       "    <tr>\n",
       "      <th>6</th>\n",
       "      <td>DI1.0_LR_NoPost</td>\n",
       "      <td>val</td>\n",
       "      <td>0.700000</td>\n",
       "      <td>0.880000</td>\n",
       "      <td>-0.284091</td>\n",
       "      <td>0.557182</td>\n",
       "      <td>0</td>\n",
       "    </tr>\n",
       "  </tbody>\n",
       "</table>\n",
       "</div>"
      ],
      "text/plain": [
       "           setting  data  accuracy  selection_rate  false_discovery_rate  \\\n",
       "0      NoPre_LR_RO   val  0.710000        0.890000             -0.280899   \n",
       "1      NoPre_LR_RO  test  0.771144        0.800995             -0.173913   \n",
       "2  NoPre_LR_NoPost   val  0.710000        0.890000             -0.280899   \n",
       "3  NoPre_LR_NoPost  test  0.756219        0.925373             -0.225806   \n",
       "6  DI1.0_LR_NoPost   val  0.700000        0.880000             -0.284091   \n",
       "\n",
       "    skyline  optimal  \n",
       "0  0.565820        1  \n",
       "1  0.591088        1  \n",
       "2  0.565820        1  \n",
       "3  0.610560        1  \n",
       "6  0.557182        0  "
      ]
     },
     "execution_count": 8,
     "metadata": {},
     "output_type": "execute_result"
    }
   ],
   "source": [
    "filter_formula_options = get_skyline_candidates(filter_formula_results, focus_seed)\n",
    "filter_formula_options.head(5)"
   ]
  },
  {
   "cell_type": "code",
   "execution_count": 9,
   "metadata": {},
   "outputs": [],
   "source": [
    "def output_scatter_plot(f_name, df, x_col, y_col, hue_col='setting', color_p='Set2'):\n",
    "    '''\n",
    "        Visualization of the skyline options w.r.t. two metrics (X and Y axis) in the skyline inputs.\n",
    "    '''\n",
    "    sns.set(style='whitegrid', font_scale=1.5)\n",
    "    # add jitters for x to account for ties in the values\n",
    "    data = df.copy()\n",
    "    noise_param = 100\n",
    "    data[x_col] += np.random.random(data.shape[0]) / noise_param - 1 / noise_param / 2\n",
    "\n",
    "    fig, (ax1, ax2) = plt.subplots(1, 2, sharex=True, sharey=True, figsize=(13, 6))\n",
    "    \n",
    "    sns.scatterplot(x_col, y_col, hue_col, data=data.query(\"data == 'val'\"), ax=ax1, style='optimal', s=100)\n",
    "    sns.scatterplot(x_col, y_col, hue_col, data=data.query(\"data == 'test'\"), ax=ax2, style='optimal', s=100)\n",
    "    ax1.set_title('validation')\n",
    "    ax2.set_title('test')\n",
    "    plt.tight_layout()\n",
    "\n",
    "    # save plot into the disc\n",
    "    cur_f_path = f_name[0:f_name.rfind(\"/\") + 1]\n",
    "    if not os.path.exists(cur_f_path):\n",
    "        directory = os.path.dirname(cur_f_path)\n",
    "        pathlib.Path(directory).mkdir(parents=True, exist_ok=True)\n",
    "    plt.savefig(f_name + '.png')"
   ]
  },
  {
   "cell_type": "code",
   "execution_count": 10,
   "metadata": {},
   "outputs": [
    {
     "data": {
      "text/html": [
       "<div>\n",
       "<style scoped>\n",
       "    .dataframe tbody tr th:only-of-type {\n",
       "        vertical-align: middle;\n",
       "    }\n",
       "\n",
       "    .dataframe tbody tr th {\n",
       "        vertical-align: top;\n",
       "    }\n",
       "\n",
       "    .dataframe thead th {\n",
       "        text-align: right;\n",
       "    }\n",
       "</style>\n",
       "<table border=\"1\" class=\"dataframe\">\n",
       "  <thead>\n",
       "    <tr style=\"text-align: right;\">\n",
       "      <th></th>\n",
       "      <th>setting</th>\n",
       "      <th>data</th>\n",
       "      <th>accuracy</th>\n",
       "      <th>selection_rate</th>\n",
       "      <th>false_discovery_rate</th>\n",
       "      <th>skyline</th>\n",
       "      <th>optimal</th>\n",
       "    </tr>\n",
       "  </thead>\n",
       "  <tbody>\n",
       "    <tr>\n",
       "      <th>0</th>\n",
       "      <td>NoPre_LR_RO</td>\n",
       "      <td>val</td>\n",
       "      <td>0.710000</td>\n",
       "      <td>0.890000</td>\n",
       "      <td>-0.280899</td>\n",
       "      <td>79.619101</td>\n",
       "      <td>1</td>\n",
       "    </tr>\n",
       "    <tr>\n",
       "      <th>1</th>\n",
       "      <td>NoPre_LR_RO</td>\n",
       "      <td>test</td>\n",
       "      <td>0.771144</td>\n",
       "      <td>0.800995</td>\n",
       "      <td>-0.173913</td>\n",
       "      <td>84.950465</td>\n",
       "      <td>1</td>\n",
       "    </tr>\n",
       "    <tr>\n",
       "      <th>2</th>\n",
       "      <td>NoPre_LR_NoPost</td>\n",
       "      <td>val</td>\n",
       "      <td>0.710000</td>\n",
       "      <td>0.890000</td>\n",
       "      <td>-0.280899</td>\n",
       "      <td>79.619101</td>\n",
       "      <td>1</td>\n",
       "    </tr>\n",
       "    <tr>\n",
       "      <th>3</th>\n",
       "      <td>NoPre_LR_NoPost</td>\n",
       "      <td>test</td>\n",
       "      <td>0.756219</td>\n",
       "      <td>0.925373</td>\n",
       "      <td>-0.225806</td>\n",
       "      <td>84.649815</td>\n",
       "      <td>1</td>\n",
       "    </tr>\n",
       "    <tr>\n",
       "      <th>6</th>\n",
       "      <td>DI1.0_LR_NoPost</td>\n",
       "      <td>val</td>\n",
       "      <td>0.700000</td>\n",
       "      <td>0.880000</td>\n",
       "      <td>-0.284091</td>\n",
       "      <td>78.515909</td>\n",
       "      <td>0</td>\n",
       "    </tr>\n",
       "    <tr>\n",
       "      <th>7</th>\n",
       "      <td>DI1.0_LR_NoPost</td>\n",
       "      <td>test</td>\n",
       "      <td>0.781095</td>\n",
       "      <td>0.890547</td>\n",
       "      <td>-0.201117</td>\n",
       "      <td>86.813808</td>\n",
       "      <td>0</td>\n",
       "    </tr>\n",
       "  </tbody>\n",
       "</table>\n",
       "</div>"
      ],
      "text/plain": [
       "           setting  data  accuracy  selection_rate  false_discovery_rate  \\\n",
       "0      NoPre_LR_RO   val  0.710000        0.890000             -0.280899   \n",
       "1      NoPre_LR_RO  test  0.771144        0.800995             -0.173913   \n",
       "2  NoPre_LR_NoPost   val  0.710000        0.890000             -0.280899   \n",
       "3  NoPre_LR_NoPost  test  0.756219        0.925373             -0.225806   \n",
       "6  DI1.0_LR_NoPost   val  0.700000        0.880000             -0.284091   \n",
       "7  DI1.0_LR_NoPost  test  0.781095        0.890547             -0.201117   \n",
       "\n",
       "     skyline  optimal  \n",
       "0  79.619101        1  \n",
       "1  84.950465        1  \n",
       "2  79.619101        1  \n",
       "3  84.649815        1  \n",
       "6  78.515909        0  \n",
       "7  86.813808        0  "
      ]
     },
     "execution_count": 10,
     "metadata": {},
     "output_type": "execute_result"
    }
   ],
   "source": [
    "filter_order_options"
   ]
  },
  {
   "cell_type": "code",
   "execution_count": 11,
   "metadata": {},
   "outputs": [
    {
     "data": {
      "text/html": [
       "<div>\n",
       "<style scoped>\n",
       "    .dataframe tbody tr th:only-of-type {\n",
       "        vertical-align: middle;\n",
       "    }\n",
       "\n",
       "    .dataframe tbody tr th {\n",
       "        vertical-align: top;\n",
       "    }\n",
       "\n",
       "    .dataframe thead th {\n",
       "        text-align: right;\n",
       "    }\n",
       "</style>\n",
       "<table border=\"1\" class=\"dataframe\">\n",
       "  <thead>\n",
       "    <tr style=\"text-align: right;\">\n",
       "      <th></th>\n",
       "      <th>setting</th>\n",
       "      <th>data</th>\n",
       "      <th>accuracy</th>\n",
       "      <th>selection_rate</th>\n",
       "      <th>false_discovery_rate</th>\n",
       "      <th>skyline</th>\n",
       "      <th>optimal</th>\n",
       "    </tr>\n",
       "  </thead>\n",
       "  <tbody>\n",
       "    <tr>\n",
       "      <th>0</th>\n",
       "      <td>NoPre_LR_RO</td>\n",
       "      <td>val</td>\n",
       "      <td>0.710000</td>\n",
       "      <td>0.890000</td>\n",
       "      <td>-0.280899</td>\n",
       "      <td>0.565820</td>\n",
       "      <td>1</td>\n",
       "    </tr>\n",
       "    <tr>\n",
       "      <th>1</th>\n",
       "      <td>NoPre_LR_RO</td>\n",
       "      <td>test</td>\n",
       "      <td>0.771144</td>\n",
       "      <td>0.800995</td>\n",
       "      <td>-0.173913</td>\n",
       "      <td>0.591088</td>\n",
       "      <td>1</td>\n",
       "    </tr>\n",
       "    <tr>\n",
       "      <th>2</th>\n",
       "      <td>NoPre_LR_NoPost</td>\n",
       "      <td>val</td>\n",
       "      <td>0.710000</td>\n",
       "      <td>0.890000</td>\n",
       "      <td>-0.280899</td>\n",
       "      <td>0.565820</td>\n",
       "      <td>1</td>\n",
       "    </tr>\n",
       "    <tr>\n",
       "      <th>3</th>\n",
       "      <td>NoPre_LR_NoPost</td>\n",
       "      <td>test</td>\n",
       "      <td>0.756219</td>\n",
       "      <td>0.925373</td>\n",
       "      <td>-0.225806</td>\n",
       "      <td>0.610560</td>\n",
       "      <td>1</td>\n",
       "    </tr>\n",
       "    <tr>\n",
       "      <th>6</th>\n",
       "      <td>DI1.0_LR_NoPost</td>\n",
       "      <td>val</td>\n",
       "      <td>0.700000</td>\n",
       "      <td>0.880000</td>\n",
       "      <td>-0.284091</td>\n",
       "      <td>0.557182</td>\n",
       "      <td>0</td>\n",
       "    </tr>\n",
       "    <tr>\n",
       "      <th>7</th>\n",
       "      <td>DI1.0_LR_NoPost</td>\n",
       "      <td>test</td>\n",
       "      <td>0.781095</td>\n",
       "      <td>0.890547</td>\n",
       "      <td>-0.201117</td>\n",
       "      <td>0.617488</td>\n",
       "      <td>0</td>\n",
       "    </tr>\n",
       "  </tbody>\n",
       "</table>\n",
       "</div>"
      ],
      "text/plain": [
       "           setting  data  accuracy  selection_rate  false_discovery_rate  \\\n",
       "0      NoPre_LR_RO   val  0.710000        0.890000             -0.280899   \n",
       "1      NoPre_LR_RO  test  0.771144        0.800995             -0.173913   \n",
       "2  NoPre_LR_NoPost   val  0.710000        0.890000             -0.280899   \n",
       "3  NoPre_LR_NoPost  test  0.756219        0.925373             -0.225806   \n",
       "6  DI1.0_LR_NoPost   val  0.700000        0.880000             -0.284091   \n",
       "7  DI1.0_LR_NoPost  test  0.781095        0.890547             -0.201117   \n",
       "\n",
       "    skyline  optimal  \n",
       "0  0.565820        1  \n",
       "1  0.591088        1  \n",
       "2  0.565820        1  \n",
       "3  0.610560        1  \n",
       "6  0.557182        0  \n",
       "7  0.617488        0  "
      ]
     },
     "execution_count": 11,
     "metadata": {},
     "output_type": "execute_result"
    }
   ],
   "source": [
    "filter_formula_options"
   ]
  },
  {
   "cell_type": "code",
   "execution_count": 12,
   "metadata": {},
   "outputs": [],
   "source": [
    "x_col = 'selection_rate'\n",
    "y_col = 'accuracy'\n",
    "output_fname = \"_\".join(['examples/skyline_plots/Order', 's'+str(focus_seed), x_col, y_col])\n",
    "\n",
    "output_scatter_plot(output_fname, filter_order_options, x_col, y_col)"
   ]
  },
  {
   "cell_type": "code",
   "execution_count": 13,
   "metadata": {},
   "outputs": [],
   "source": [
    "x_col = 'selection_rate'\n",
    "y_col = 'accuracy'\n",
    "output_fname = \"_\".join(['examples/skyline_plots/Formula', 's'+str(focus_seed), x_col, y_col])\n",
    "\n",
    "output_scatter_plot(output_fname, filter_formula_options, x_col, y_col)"
   ]
  }
 ],
 "metadata": {
  "kernelspec": {
   "display_name": "Python 3",
   "language": "python",
   "name": "python3"
  },
  "language_info": {
   "codemirror_mode": {
    "name": "ipython",
    "version": 3
   },
   "file_extension": ".py",
   "mimetype": "text/x-python",
   "name": "python",
   "nbconvert_exporter": "python",
   "pygments_lexer": "ipython3",
   "version": "3.7.3"
  }
 },
 "nbformat": 4,
 "nbformat_minor": 1
}
