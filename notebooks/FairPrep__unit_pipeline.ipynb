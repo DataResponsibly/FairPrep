{
 "cells": [
  {
   "cell_type": "markdown",
   "metadata": {},
   "source": [
    "# FairPrep Usage (unit example)\n",
    "\n",
    "> This is a quick demo to use FairPrep to build a pipeline on a dataset. The pipeline includes preprocessing steps, a classifier, and some fairness interventions.\n",
    "\n",
    "### Step 1 import packages"
   ]
  },
  {
   "cell_type": "code",
   "execution_count": 2,
   "metadata": {},
   "outputs": [],
   "source": [
    "import sys\n",
    "sys.path.insert(0,'../')\n",
    "\n",
    "import matplotlib.pyplot as plt\n",
    "import seaborn as sns"
   ]
  },
  {
   "cell_type": "code",
   "execution_count": 9,
   "metadata": {},
   "outputs": [],
   "source": [
    "import warnings\n",
    "warnings.filterwarnings(\"ignore\")\n",
    "from FairPrep.preprocess.splitters import *\n",
    "from FairPrep.preprocess.samplers import *\n",
    "from FairPrep.preprocess.imputers import *\n",
    "from FairPrep.preprocess.scalers import *\n",
    "from FairPrep.preprocess.categorizers import *\n",
    "from FairPrep.preprocess.encoders import *\n",
    "from FairPrep.preprocess.fair_preprocessors import *\n",
    "from FairPrep.model.classifiers import *\n",
    "from FairPrep.postprocess.fair_postprocessors import *\n",
    "from FairPrep.pipeline import FairPipeline\n",
    "from FairPrep.stage import *"
   ]
  },
  {
   "cell_type": "markdown",
   "metadata": {},
   "source": [
    "### Step 2 user-defined parameteres for dataset"
   ]
  },
  {
   "cell_type": "code",
   "execution_count": 14,
   "metadata": {},
   "outputs": [],
   "source": [
    "# specify the basic descriptive parameters of the input data\n",
    "data_file = \"../data/german_AIF_test.csv\"\n",
    "# the target column name\n",
    "y_col = \"credit\"\n",
    "# the value of the target column that represents the favorable label\n",
    "y_posi = [\"good\"]\n",
    "# the sensitive attributes in the dataset\n",
    "sensi_atts = [\"age\", \"sex\"]\n",
    "# the values of the sensitive attributes that represent the protected group, e.g. female for gender, Black for race.\n",
    "protected_groups = {\"age\": \"young\", \"sex\": \"female\"}\n",
    "# the numerical mapping of the values of the sensitive attributes and the target column\n",
    "value_mapping = {\"female\": 0, \"male\": 1, \"good\": 1, \"bad\": 0, \"young\": 0, \"old\": 1}\n",
    "# the name of the binary sensitive attribute to be used in fairness intervention. Note that the fairness intervention only works with a single binary sensitive attribute.\n",
    "debias_focus_att = \"sex\"\n",
    "\n",
    "# the list of numerical attributes in the dataset for the purpose of integrity checks\n",
    "numerical_atts = [\"month\", \"credit_amount\"]\n",
    "# the list of categorical attributes in the dataset without the sensitive attributes for the purpose of integrity checks\n",
    "categorical_atts = [\"status\", \"employment\", \"housing\"]\n",
    "\n",
    "\n",
    "\n"
   ]
  },
  {
   "cell_type": "markdown",
   "metadata": {},
   "source": [
    "Default values set here, change here if needed."
   ]
  },
  {
   "cell_type": "code",
   "execution_count": 11,
   "metadata": {},
   "outputs": [],
   "source": [
    "# the value of the seed that will be used as the global seed in the FairPrep pipeline\n",
    "global_seed = 0\n",
    "\n",
    "# the list of sizes for each split of the dataset. The split datasets are train, validation and test datasets. \n",
    "# E.g. [0.5, 0.3, 0.2] represents the sizes of the train, validation and test datasets are 50%, 30%, 20% of the raw dataset.\n",
    "split_ratios = [0.5, 0.3, 0.2]"
   ]
  },
  {
   "cell_type": "markdown",
   "metadata": {},
   "source": [
    "### Step 3 specify the stages inside a FairPrep pipeline\n",
    "\n",
    "1. Instantiate three stage builders: preprocess stage builder, model stage builder, and postprocess stage builder.\n",
    "2. Specify each step inside the above three stages."
   ]
  },
  {
   "cell_type": "code",
   "execution_count": 12,
   "metadata": {},
   "outputs": [],
   "source": [
    "# initialize each stage obejct in order to build a fair pipeline\n",
    "preprocess_stage = PreprocessStageBuilder()\n",
    "model_stage = ModelStageBuilder()\n",
    "postprocess_stage = PostprocessStageBuilder()\n",
    "\n",
    "# specify the method for each preprocessing step\n",
    "preprocess_stage.setSplitter(RandomSplitter(split_ratios, global_seed))\n",
    "preprocess_stage.setSampler(NoSampler())\n",
    "preprocess_stage.setImputer(NoImputer())\n",
    "preprocess_stage.setScaler(SK_MinMaxScaler(numerical_atts))\n",
    "preprocess_stage.setCategorizer(NoBinarizer())\n",
    "preprocess_stage.setEncoder(OneHotEncoder(categorical_atts))\n",
    "preprocess_stage.setMappingEncoder(MappingEncoder([y_col] + sensi_atts, value_mapping))\n",
    "preprocess_stage.setFairPreprocessor(AIF_Reweighing(y_col, debias_focus_att))\n",
    "\n",
    "# specify the method for the model step\n",
    "model_stage.setModel(OPT_LogisticRegression(y_col, global_seed))\n",
    "\n",
    "# specify the method for the postprocessor step\n",
    "postprocess_stage.setPostprocessor(NoFairPostprocessor())"
   ]
  },
  {
   "cell_type": "markdown",
   "metadata": {},
   "source": [
    "### Step 4 build and run a fairprep pipeline\n",
    "\n",
    "1. Build the FairPrep pipeline using above three stage builders.\n",
    "2. Run the pipeline on above dataset."
   ]
  },
  {
   "cell_type": "code",
   "execution_count": 15,
   "metadata": {},
   "outputs": [
    {
     "name": "stdout",
     "output_type": "stream",
     "text": [
      "(step 1 of 10) running RandomSplitter\n",
      "===================================================\n",
      "\n",
      "(step 2 of 10) running NoSampler\n",
      "===================================================\n",
      "\n",
      "Data is saved to  /Users/keyang/PrivGithub/FairPrep/logs/2020-08-14_15-06-00-399__german_AIF_test/RS_NS-0-train.csv\n",
      "Data is saved to  /Users/keyang/PrivGithub/FairPrep/logs/2020-08-14_15-06-00-399__german_AIF_test/RS_NS-0-val.csv\n",
      "Data is saved to  /Users/keyang/PrivGithub/FairPrep/logs/2020-08-14_15-06-00-399__german_AIF_test/RS_NS-0-test.csv\n",
      "\n",
      "===================================================\n",
      "\n",
      "(step 3 of 10) running NoImputer\n",
      "===================================================\n",
      "\n",
      "Data is saved to  /Users/keyang/PrivGithub/FairPrep/logs/2020-08-14_15-06-00-399__german_AIF_test/RS_NS_NI-0-train.csv\n",
      "Data is saved to  /Users/keyang/PrivGithub/FairPrep/logs/2020-08-14_15-06-00-399__german_AIF_test/RS_NS_NI-0-val.csv\n",
      "Data is saved to  /Users/keyang/PrivGithub/FairPrep/logs/2020-08-14_15-06-00-399__german_AIF_test/RS_NS_NI-0-test.csv\n",
      "\n",
      "===================================================\n",
      "\n",
      "(step 4 of 10) running MinMaxScaler\n",
      "===================================================\n",
      "\n",
      "Data is saved to  /Users/keyang/PrivGithub/FairPrep/logs/2020-08-14_15-06-00-399__german_AIF_test/RS_NS_NI_MS-0-train.csv\n",
      "Data is saved to  /Users/keyang/PrivGithub/FairPrep/logs/2020-08-14_15-06-00-399__german_AIF_test/RS_NS_NI_MS-0-val.csv\n",
      "Data is saved to  /Users/keyang/PrivGithub/FairPrep/logs/2020-08-14_15-06-00-399__german_AIF_test/RS_NS_NI_MS-0-test.csv\n",
      "\n",
      "===================================================\n",
      "\n",
      "(step 5 of 10) running NoBinarizer\n",
      "===================================================\n",
      "\n",
      "Data is saved to  /Users/keyang/PrivGithub/FairPrep/logs/2020-08-14_15-06-00-399__german_AIF_test/RS_NS_NI_MS_NB-0-train.csv\n",
      "Data is saved to  /Users/keyang/PrivGithub/FairPrep/logs/2020-08-14_15-06-00-399__german_AIF_test/RS_NS_NI_MS_NB-0-val.csv\n",
      "Data is saved to  /Users/keyang/PrivGithub/FairPrep/logs/2020-08-14_15-06-00-399__german_AIF_test/RS_NS_NI_MS_NB-0-test.csv\n",
      "\n",
      "===================================================\n",
      "\n",
      "(step 6 of 10) running OneHotEncoder\n",
      "===================================================\n",
      "\n",
      "Data is saved to  /Users/keyang/PrivGithub/FairPrep/logs/2020-08-14_15-06-00-399__german_AIF_test/RS_NS_NI_MS_NB_HE-0-train.csv\n",
      "Data is saved to  /Users/keyang/PrivGithub/FairPrep/logs/2020-08-14_15-06-00-399__german_AIF_test/RS_NS_NI_MS_NB_HE-0-val.csv\n",
      "Data is saved to  /Users/keyang/PrivGithub/FairPrep/logs/2020-08-14_15-06-00-399__german_AIF_test/RS_NS_NI_MS_NB_HE-0-test.csv\n",
      "\n",
      "===================================================\n",
      "\n",
      "(step 7 of 10) running MappingEncoder\n",
      "===================================================\n",
      "\n",
      "Data is saved to  /Users/keyang/PrivGithub/FairPrep/logs/2020-08-14_15-06-00-399__german_AIF_test/RS_NS_NI_MS_NB_HE_ME-0-train.csv\n",
      "Data is saved to  /Users/keyang/PrivGithub/FairPrep/logs/2020-08-14_15-06-00-399__german_AIF_test/RS_NS_NI_MS_NB_HE_ME-0-val.csv\n",
      "Data is saved to  /Users/keyang/PrivGithub/FairPrep/logs/2020-08-14_15-06-00-399__german_AIF_test/RS_NS_NI_MS_NB_HE_ME-0-test.csv\n",
      "\n",
      "===================================================\n",
      "\n",
      "(step 8 of 10) running Reweighing\n",
      "===================================================\n",
      "\n",
      "Data is saved to  /Users/keyang/PrivGithub/FairPrep/logs/2020-08-14_15-06-00-399__german_AIF_test/RS_NS_NI_MS_NB_HE_ME_RW-0-train.csv\n",
      "Data is saved to  /Users/keyang/PrivGithub/FairPrep/logs/2020-08-14_15-06-00-399__german_AIF_test/RS_NS_NI_MS_NB_HE_ME_RW-0-val.csv\n",
      "Data is saved to  /Users/keyang/PrivGithub/FairPrep/logs/2020-08-14_15-06-00-399__german_AIF_test/RS_NS_NI_MS_NB_HE_ME_RW-0-test.csv\n",
      "\n",
      "===================================================\n",
      "\n",
      "(step 9 of 10) running OPT_LogisticRegression\n",
      "===================================================\n",
      "\n",
      "Fitting 5 folds for each of 12 candidates, totalling 60 fits\n"
     ]
    },
    {
     "name": "stderr",
     "output_type": "stream",
     "text": [
      "[Parallel(n_jobs=-1)]: Using backend LokyBackend with 4 concurrent workers.\n",
      "[Parallel(n_jobs=-1)]: Done  60 out of  60 | elapsed:    1.8s finished\n"
     ]
    },
    {
     "name": "stdout",
     "output_type": "stream",
     "text": [
      "Data is saved to  /Users/keyang/PrivGithub/FairPrep/logs/2020-08-14_15-06-00-399__german_AIF_test/RS_NS_NI_MS_NB_HE_ME_RW_OLR-0-train.csv\n",
      "Data is saved to  /Users/keyang/PrivGithub/FairPrep/logs/2020-08-14_15-06-00-399__german_AIF_test/RS_NS_NI_MS_NB_HE_ME_RW_OLR-0-val.csv\n",
      "Data is saved to  /Users/keyang/PrivGithub/FairPrep/logs/2020-08-14_15-06-00-399__german_AIF_test/RS_NS_NI_MS_NB_HE_ME_RW_OLR-0-test.csv\n",
      "\n",
      "===================================================\n",
      "\n",
      "(step 10 of 10) running NoPostprocessor\n",
      "===================================================\n",
      "\n",
      "Data is saved to  /Users/keyang/PrivGithub/FairPrep/logs/2020-08-14_15-06-00-399__german_AIF_test/RS_NS_NI_MS_NB_HE_ME_RW_OLR_NP-0-train.csv\n",
      "Data is saved to  /Users/keyang/PrivGithub/FairPrep/logs/2020-08-14_15-06-00-399__german_AIF_test/RS_NS_NI_MS_NB_HE_ME_RW_OLR_NP-0-val.csv\n",
      "Data is saved to  /Users/keyang/PrivGithub/FairPrep/logs/2020-08-14_15-06-00-399__german_AIF_test/RS_NS_NI_MS_NB_HE_ME_RW_OLR_NP-0-test.csv\n",
      "\n",
      "===================================================\n",
      "\n",
      "==> Evaluation results are stored in  /Users/keyang/PrivGithub/FairPrep/logs/2020-08-14_15-06-00-399__german_AIF_test/Metrics-0-train.csv\n",
      "==> Evaluation results are stored in  /Users/keyang/PrivGithub/FairPrep/logs/2020-08-14_15-06-00-399__german_AIF_test/Metrics-0-val.csv\n",
      "==> Evaluation results are stored in  /Users/keyang/PrivGithub/FairPrep/logs/2020-08-14_15-06-00-399__german_AIF_test/Metrics-0-test.csv\n"
     ]
    }
   ],
   "source": [
    "# initialize a fair prep object using the above data descriptive parameters\n",
    "fairprep_builder = FairPrepBuilder(data_file=data_file, target_col=y_col, positive_target_value=y_posi,\n",
    "                           sensitive_attributes=sensi_atts, protected_groups=protected_groups, special_value_mapping=value_mapping,\n",
    "                           debias_attribute=debias_focus_att, numerical_atts=numerical_atts, categorical_atts=categorical_atts,\n",
    "                           seed=global_seed, verbose=True)\n",
    "\n",
    "\n",
    "# set each stage using above stages\n",
    "fairprep_builder.setPreprocessStage(preprocess_stage_builder=preprocess_stage)\n",
    "fairprep_builder.setModelStage(model_stage_builder=model_stage)\n",
    "fairprep_builder.setPostprocessStage(postprocess_stage_builder=postprocess_stage)\n",
    "\n",
    "# run the pipeline that is built from the steps specified in above three stages\n",
    "train_after, val_after, test_after = fairprep_builder.runPipeline(save_interdata=True)"
   ]
  },
  {
   "cell_type": "markdown",
   "metadata": {},
   "source": [
    "### Step 5 visualize the performance on each split datasets (optional)\n",
    "\n",
    "FairPrep computes the frequently used evaluation metrics, such as performance metric accuracy and fairness-involved metric selection rate. The results of the evaluation metrics are stored in the file \"Metrics-GLOABAL_SEED-DATASET.csv\" inside the corresponding log folder under the root folder \"logs/\". For example, the results for train dataset for global seed = 0 is stored as \"Metrics-0-train.csv\".\n",
    "\n",
    "#### 5.1 visualize the two metrics on the dataset\n",
    "\n",
    "It needs two as inputs to draw the scatter plot."
   ]
  },
  {
   "cell_type": "code",
   "execution_count": 27,
   "metadata": {},
   "outputs": [],
   "source": [
    "# the name of the metric on X axis\n",
    "metric_on_x = \"selection_rate\"\n",
    "# the name of the metric on Y axis\n",
    "metric_on_y = \"accuracy\""
   ]
  },
  {
   "cell_type": "code",
   "execution_count": 38,
   "metadata": {},
   "outputs": [],
   "source": [
    "# read the results of metrics on each split\n",
    "res_df = pd.DataFrame(columns=[\"split\", metric_on_x, metric_on_y, \"PrivilegedStatus\"])\n",
    "for split_i in [\"train\", \"val\", \"test\"]:\n",
    "    cur_res = pd.read_csv(fairprep_builder.engine.log_dir_name + \"Metrics-{}-{}.csv\".format(global_seed, split_i))\n",
    "    cur_res = cur_res.fillna(value=\"ignore\")\n",
    "    for data_i in [\"ignore\", True, False]:\n",
    "        metric_res = []\n",
    "        for metric_i in [metric_on_x, metric_on_y]:\n",
    "            metric_res.append(cur_res[(cur_res[\"PrivilegedStatus\"]==data_i) & (cur_res[\"MetricName\"]==metric_i)][\"MetricValue\"].values[0])\n",
    "        res_df.loc[res_df.shape[0]] = [split_i] + metric_res + [data_i]"
   ]
  },
  {
   "cell_type": "code",
   "execution_count": 50,
   "metadata": {},
   "outputs": [],
   "source": [
    "def output_scatter_plot(res_df, x_col, y_col, hue_col='PrivilegedStatus', color_p='Set3'):\n",
    "    '''\n",
    "        Visualization of the two metrics for the different groups by different colors. \n",
    "    '''\n",
    "    sns.set(style='whitegrid', font_scale=1.5)\n",
    "    colors = [\"greyish\", \"windows blue\", \"red\"]\n",
    "    sns.set_palette(sns.color_palette(sns.xkcd_palette(colors)))\n",
    "    \n",
    "    fig, (ax1, ax2, ax3) = plt.subplots(1, 3, sharex=True, sharey=True, figsize=(13, 6))\n",
    "    sns.scatterplot(x_col, y_col, hue_col, data=res_df.query(\"split == 'train'\"), ax=ax1, s=100, legend=False)\n",
    "    sns.scatterplot(x_col, y_col, hue_col, data=res_df.query(\"split == 'val'\"), ax=ax2, s=100, legend=False)\n",
    "    sns.scatterplot(x_col, y_col, hue_col, data=res_df.query(\"split == 'test'\"), ax=ax3, s=100)\n",
    "    \n",
    "    ax1.set_title('On train')\n",
    "    ax2.set_title('On validation')\n",
    "    ax3.set_title('On test')\n",
    "    plt.tight_layout()"
   ]
  },
  {
   "cell_type": "code",
   "execution_count": 51,
   "metadata": {},
   "outputs": [
    {
     "data": {
      "image/png": "[encoded data removed]",
      "text/plain": [
       "<Figure size 936x432 with 3 Axes>"
      ]
     },
     "metadata": {},
     "output_type": "display_data"
    }
   ],
   "source": [
    "output_scatter_plot(res_df, metric_on_x, metric_on_y)"
   ]
  },
  {
   "cell_type": "markdown",
   "metadata": {},
   "source": [
    "### Interpret the plots above\n",
    "The above plot shows that the performance of the pipeline on the input dataset differs for different groups. For example, in above plot, the blue points represent the results of privileged group (e.g. male for gender and White for race) with \"PrivilegedStatus=True\" on each splits: train, validation and test. The red points represent the results of the unprivileged group (e.g. female for gender and Black for race) with PrivilegedStatus=False\" on each splits. And the grey points represent the results of the metrics on X and Y axis on the complete split ignoring the group membership with \"PrivilegedStatus=ignore\".\n",
    "\n",
    "We can observe that the accuracy and the selection rate for the unprivileged group are lower than the privileged one and this trend is true on all the splits. The performance for the unprivileged group is even worse than the value on the complete dataset (e.g. grey points). \n",
    "\n",
    "> FairPrep helps users to check such imbalanced performane of the pipeline on their own datasets."
   ]
  },
  {
   "cell_type": "code",
   "execution_count": null,
   "metadata": {},
   "outputs": [],
   "source": []
  }
 ],
 "metadata": {
  "kernelspec": {
   "display_name": "Python 3",
   "language": "python",
   "name": "python3"
  },
  "language_info": {
   "codemirror_mode": {
    "name": "ipython",
    "version": 3
   },
   "file_extension": ".py",
   "mimetype": "text/x-python",
   "name": "python",
   "nbconvert_exporter": "python",
   "pygments_lexer": "ipython3",
   "version": "3.7.3"
  }
 },
 "nbformat": 4,
 "nbformat_minor": 4
}
